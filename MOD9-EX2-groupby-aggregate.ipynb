{
 "cells": [
  {
   "cell_type": "markdown",
   "metadata": {},
   "source": [
    "# Livro para consulta:\n",
    "- https://jakevdp.github.io/PythonDataScienceHandbook/03.08-aggregation-and-grouping.html\n",
    "- https://jakevdp.github.io/PythonDataScienceHandbook/03.09-pivot-tables.html\n",
    "    "
   ]
  },
  {
   "cell_type": "markdown",
   "metadata": {},
   "source": [
    "# 1. Importando bibliotecas <a name=\"import\"></a>\n",
    "\n",
    "<div style=\"text-align: right\"\n",
    "     \n",
    "[Voltar ao índice](#Contents)"
   ]
  },
  {
   "cell_type": "code",
   "execution_count": 1,
   "metadata": {
    "ExecuteTime": {
     "end_time": "2021-06-06T21:12:37.298706Z",
     "start_time": "2021-06-06T21:12:36.656481Z"
    }
   },
   "outputs": [],
   "source": [
    "import numpy as np\n",
    "import pandas as pd\n",
    "import seaborn as sns\n",
    "import matplotlib.pyplot as plt\n",
    "\n",
    "%matplotlib inline"
   ]
  },
  {
   "cell_type": "code",
   "execution_count": null,
   "metadata": {},
   "outputs": [],
   "source": []
  },
  {
   "cell_type": "markdown",
   "metadata": {},
   "source": [
    "# 2. Carregando o dataframe SINASC <a name=\"read\"></a>\n",
    "<div style=\"text-align: right\"\n",
    "     \n",
    "[Voltar ao índice](#Contents)"
   ]
  },
  {
   "cell_type": "code",
   "execution_count": 2,
   "metadata": {
    "ExecuteTime": {
     "end_time": "2021-06-06T21:12:37.762376Z",
     "start_time": "2021-06-06T21:12:37.728383Z"
    },
    "scrolled": true
   },
   "outputs": [],
   "source": [
    "sinasc_raw = pd.read_csv('SINASC_RO_2019.csv')\n",
    "sinasc_raw.head()\n",
    "\n",
    "df = sinasc_raw.copy()"
   ]
  },
  {
   "cell_type": "code",
   "execution_count": 3,
   "metadata": {},
   "outputs": [
    {
     "name": "stdout",
     "output_type": "stream",
     "text": [
      "<class 'pandas.core.frame.DataFrame'>\n",
      "RangeIndex: 27028 entries, 0 to 27027\n",
      "Data columns (total 69 columns):\n",
      " #   Column        Non-Null Count  Dtype  \n",
      "---  ------        --------------  -----  \n",
      " 0   ORIGEM        27028 non-null  int64  \n",
      " 1   CODESTAB      26913 non-null  float64\n",
      " 2   CODMUNNASC    27028 non-null  int64  \n",
      " 3   LOCNASC       27028 non-null  int64  \n",
      " 4   IDADEMAE      27028 non-null  int64  \n",
      " 5   ESTCIVMAE     26711 non-null  float64\n",
      " 6   ESCMAE        26716 non-null  object \n",
      " 7   CODOCUPMAE    24121 non-null  float64\n",
      " 8   QTDFILVIVO    25455 non-null  float64\n",
      " 9   QTDFILMORT    24930 non-null  float64\n",
      " 10  CODMUNRES     27028 non-null  int64  \n",
      " 11  GESTACAO      25796 non-null  object \n",
      " 12  GRAVIDEZ      26949 non-null  object \n",
      " 13  PARTO         26979 non-null  object \n",
      " 14  CONSULTAS     27028 non-null  int64  \n",
      " 15  DTNASC        27028 non-null  object \n",
      " 16  HORANASC      27007 non-null  float64\n",
      " 17  SEXO          27024 non-null  object \n",
      " 18  APGAR1        26932 non-null  float64\n",
      " 19  APGAR5        26925 non-null  float64\n",
      " 20  RACACOR       26381 non-null  object \n",
      " 21  PESO          27028 non-null  int64  \n",
      " 22  IDANOMAL      26437 non-null  float64\n",
      " 23  DTCADASTRO    27028 non-null  object \n",
      " 24  CODANOMAL     214 non-null    object \n",
      " 25  NUMEROLOTE    27028 non-null  int64  \n",
      " 26  VERSAOSIST    27028 non-null  object \n",
      " 27  DTRECEBIM     27028 non-null  object \n",
      " 28  DIFDATA       27028 non-null  int64  \n",
      " 29  DTRECORIGA    0 non-null      float64\n",
      " 30  NATURALMAE    26730 non-null  float64\n",
      " 31  CODMUNNATU    26730 non-null  float64\n",
      " 32  CODUFNATU     26730 non-null  float64\n",
      " 33  ESCMAE2010    26779 non-null  float64\n",
      " 34  SERIESCMAE    14318 non-null  float64\n",
      " 35  DTNASCMAE     26988 non-null  float64\n",
      " 36  RACACORMAE    26367 non-null  float64\n",
      " 37  QTDGESTANT    25816 non-null  float64\n",
      " 38  QTDPARTNOR    25149 non-null  float64\n",
      " 39  QTDPARTCES    25237 non-null  float64\n",
      " 40  IDADEPAI      7607 non-null   float64\n",
      " 41  DTULTMENST    16956 non-null  float64\n",
      " 42  SEMAGESTAC    25790 non-null  float64\n",
      " 43  TPMETESTIM    25790 non-null  float64\n",
      " 44  CONSPRENAT    26098 non-null  float64\n",
      " 45  MESPRENAT     24161 non-null  float64\n",
      " 46  TPAPRESENT    26763 non-null  float64\n",
      " 47  STTRABPART    26081 non-null  float64\n",
      " 48  STCESPARTO    26281 non-null  float64\n",
      " 49  TPNASCASSI    26967 non-null  float64\n",
      " 50  TPFUNCRESP    26961 non-null  float64\n",
      " 51  TPDOCRESP     27014 non-null  float64\n",
      " 52  DTDECLARAC    26976 non-null  float64\n",
      " 53  ESCMAEAGR1    26779 non-null  float64\n",
      " 54  STDNEPIDEM    27028 non-null  int64  \n",
      " 55  STDNNOVA      27028 non-null  int64  \n",
      " 56  CODPAISRES    27028 non-null  int64  \n",
      " 57  TPROBSON      27028 non-null  int64  \n",
      " 58  PARIDADE      27028 non-null  int64  \n",
      " 59  KOTELCHUCK    27028 non-null  int64  \n",
      " 60  CONTADOR      27028 non-null  int64  \n",
      " 61  munResStatus  27028 non-null  object \n",
      " 62  munResTipo    27028 non-null  object \n",
      " 63  munResNome    27028 non-null  object \n",
      " 64  munResUf      27028 non-null  object \n",
      " 65  munResLat     27027 non-null  float64\n",
      " 66  munResLon     27027 non-null  float64\n",
      " 67  munResAlt     27027 non-null  float64\n",
      " 68  munResArea    27027 non-null  float64\n",
      "dtypes: float64(38), int64(16), object(15)\n",
      "memory usage: 14.2+ MB\n"
     ]
    }
   ],
   "source": [
    "df.info()"
   ]
  },
  {
   "cell_type": "markdown",
   "metadata": {},
   "source": [
    "# Tarefa 2"
   ]
  },
  {
   "cell_type": "markdown",
   "metadata": {},
   "source": [
    "### 1. Crie 2 faixas de Latitude do município (munResLat) sendo uma acima e outra abaixo de -10.5 e aplique o groupby usando essas faixas como chave e realize operações de soma, media, minimo, maximo, mediana, desvio padrao, variancia pra pelo menos 2 variáveis numéricas ainda não utilizadas"
   ]
  },
  {
   "cell_type": "code",
   "execution_count": 4,
   "metadata": {},
   "outputs": [
    {
     "name": "stdout",
     "output_type": "stream",
     "text": [
      "-13.49976\n",
      "-8.76889\n"
     ]
    }
   ],
   "source": [
    "print( df['munResLat'].min() )\n",
    "print( df['munResLat'].max() )"
   ]
  },
  {
   "cell_type": "code",
   "execution_count": 5,
   "metadata": {},
   "outputs": [],
   "source": [
    "intervalo_latitudes = pd.cut( x = df['munResLat'], bins = [-15, -10.5, 0])"
   ]
  },
  {
   "cell_type": "code",
   "execution_count": 6,
   "metadata": {},
   "outputs": [
    {
     "data": {
      "text/html": [
       "<div>\n",
       "<style scoped>\n",
       "    .dataframe tbody tr th:only-of-type {\n",
       "        vertical-align: middle;\n",
       "    }\n",
       "\n",
       "    .dataframe tbody tr th {\n",
       "        vertical-align: top;\n",
       "    }\n",
       "\n",
       "    .dataframe thead tr th {\n",
       "        text-align: left;\n",
       "    }\n",
       "\n",
       "    .dataframe thead tr:last-of-type th {\n",
       "        text-align: right;\n",
       "    }\n",
       "</style>\n",
       "<table border=\"1\" class=\"dataframe\">\n",
       "  <thead>\n",
       "    <tr>\n",
       "      <th></th>\n",
       "      <th colspan=\"2\" halign=\"left\">min</th>\n",
       "      <th colspan=\"2\" halign=\"left\">max</th>\n",
       "      <th colspan=\"2\" halign=\"left\">mean</th>\n",
       "      <th colspan=\"2\" halign=\"left\">median</th>\n",
       "      <th colspan=\"2\" halign=\"left\">std</th>\n",
       "      <th colspan=\"2\" halign=\"left\">var</th>\n",
       "    </tr>\n",
       "    <tr>\n",
       "      <th></th>\n",
       "      <th>APGAR1</th>\n",
       "      <th>CONSULTAS</th>\n",
       "      <th>APGAR1</th>\n",
       "      <th>CONSULTAS</th>\n",
       "      <th>APGAR1</th>\n",
       "      <th>CONSULTAS</th>\n",
       "      <th>APGAR1</th>\n",
       "      <th>CONSULTAS</th>\n",
       "      <th>APGAR1</th>\n",
       "      <th>CONSULTAS</th>\n",
       "      <th>APGAR1</th>\n",
       "      <th>CONSULTAS</th>\n",
       "    </tr>\n",
       "    <tr>\n",
       "      <th>munResLat</th>\n",
       "      <th></th>\n",
       "      <th></th>\n",
       "      <th></th>\n",
       "      <th></th>\n",
       "      <th></th>\n",
       "      <th></th>\n",
       "      <th></th>\n",
       "      <th></th>\n",
       "      <th></th>\n",
       "      <th></th>\n",
       "      <th></th>\n",
       "      <th></th>\n",
       "    </tr>\n",
       "  </thead>\n",
       "  <tbody>\n",
       "    <tr>\n",
       "      <th>(-15.0, -10.5]</th>\n",
       "      <td>0.0</td>\n",
       "      <td>1</td>\n",
       "      <td>10.0</td>\n",
       "      <td>9</td>\n",
       "      <td>8.070216</td>\n",
       "      <td>3.694297</td>\n",
       "      <td>8.0</td>\n",
       "      <td>4</td>\n",
       "      <td>0.960767</td>\n",
       "      <td>0.643372</td>\n",
       "      <td>0.923073</td>\n",
       "      <td>0.413928</td>\n",
       "    </tr>\n",
       "    <tr>\n",
       "      <th>(-10.5, 0.0]</th>\n",
       "      <td>0.0</td>\n",
       "      <td>1</td>\n",
       "      <td>10.0</td>\n",
       "      <td>9</td>\n",
       "      <td>8.199771</td>\n",
       "      <td>3.467436</td>\n",
       "      <td>8.0</td>\n",
       "      <td>4</td>\n",
       "      <td>1.002839</td>\n",
       "      <td>0.888240</td>\n",
       "      <td>1.005686</td>\n",
       "      <td>0.788970</td>\n",
       "    </tr>\n",
       "  </tbody>\n",
       "</table>\n",
       "</div>"
      ],
      "text/plain": [
       "                  min              max                mean           median  \\\n",
       "               APGAR1 CONSULTAS APGAR1 CONSULTAS    APGAR1 CONSULTAS APGAR1   \n",
       "munResLat                                                                     \n",
       "(-15.0, -10.5]    0.0         1   10.0         9  8.070216  3.694297    8.0   \n",
       "(-10.5, 0.0]      0.0         1   10.0         9  8.199771  3.467436    8.0   \n",
       "\n",
       "                               std                 var            \n",
       "               CONSULTAS    APGAR1 CONSULTAS    APGAR1 CONSULTAS  \n",
       "munResLat                                                         \n",
       "(-15.0, -10.5]         4  0.960767  0.643372  0.923073  0.413928  \n",
       "(-10.5, 0.0]           4  1.002839  0.888240  1.005686  0.788970  "
      ]
     },
     "execution_count": 6,
     "metadata": {},
     "output_type": "execute_result"
    }
   ],
   "source": [
    "df.pivot_table( \n",
    "                index = intervalo_latitudes, \n",
    "                values = ['APGAR1', 'CONSULTAS'], \n",
    "                aggfunc = ['min', 'max', 'mean', 'median', 'std', 'var']\n",
    "              )"
   ]
  },
  {
   "cell_type": "markdown",
   "metadata": {},
   "source": [
    "### 2. Crie 2 faixas da área dos municípios (munResArea) sendo uma acima e outra abaixo de 3000 e aplique o groupby usando essas faixas como chave e realize operações de soma, media, minimo, maximo, mediana, desvio padrao, variancia pra pelo menos 2 variáveis numéricas ainda não utilizadas\n"
   ]
  },
  {
   "cell_type": "code",
   "execution_count": 7,
   "metadata": {},
   "outputs": [
    {
     "name": "stdout",
     "output_type": "stream",
     "text": [
      "459.978\n",
      "34096.394\n"
     ]
    }
   ],
   "source": [
    "print(df['munResArea'].min())\n",
    "print(df['munResArea'].max())"
   ]
  },
  {
   "cell_type": "code",
   "execution_count": 8,
   "metadata": {},
   "outputs": [],
   "source": [
    "intervalo_areas = pd.cut( x = df['munResArea'], bins = [0, 3000, 50000] )"
   ]
  },
  {
   "cell_type": "code",
   "execution_count": 9,
   "metadata": {},
   "outputs": [
    {
     "data": {
      "text/html": [
       "<div>\n",
       "<style scoped>\n",
       "    .dataframe tbody tr th:only-of-type {\n",
       "        vertical-align: middle;\n",
       "    }\n",
       "\n",
       "    .dataframe tbody tr th {\n",
       "        vertical-align: top;\n",
       "    }\n",
       "\n",
       "    .dataframe thead tr th {\n",
       "        text-align: left;\n",
       "    }\n",
       "\n",
       "    .dataframe thead tr:last-of-type th {\n",
       "        text-align: right;\n",
       "    }\n",
       "</style>\n",
       "<table border=\"1\" class=\"dataframe\">\n",
       "  <thead>\n",
       "    <tr>\n",
       "      <th></th>\n",
       "      <th colspan=\"2\" halign=\"left\">min</th>\n",
       "      <th colspan=\"2\" halign=\"left\">max</th>\n",
       "      <th colspan=\"2\" halign=\"left\">mean</th>\n",
       "      <th colspan=\"2\" halign=\"left\">median</th>\n",
       "      <th colspan=\"2\" halign=\"left\">std</th>\n",
       "      <th colspan=\"2\" halign=\"left\">var</th>\n",
       "    </tr>\n",
       "    <tr>\n",
       "      <th></th>\n",
       "      <th>APGAR5</th>\n",
       "      <th>CONSULTAS</th>\n",
       "      <th>APGAR5</th>\n",
       "      <th>CONSULTAS</th>\n",
       "      <th>APGAR5</th>\n",
       "      <th>CONSULTAS</th>\n",
       "      <th>APGAR5</th>\n",
       "      <th>CONSULTAS</th>\n",
       "      <th>APGAR5</th>\n",
       "      <th>CONSULTAS</th>\n",
       "      <th>APGAR5</th>\n",
       "      <th>CONSULTAS</th>\n",
       "    </tr>\n",
       "    <tr>\n",
       "      <th>munResArea</th>\n",
       "      <th></th>\n",
       "      <th></th>\n",
       "      <th></th>\n",
       "      <th></th>\n",
       "      <th></th>\n",
       "      <th></th>\n",
       "      <th></th>\n",
       "      <th></th>\n",
       "      <th></th>\n",
       "      <th></th>\n",
       "      <th></th>\n",
       "      <th></th>\n",
       "    </tr>\n",
       "  </thead>\n",
       "  <tbody>\n",
       "    <tr>\n",
       "      <th>(0, 3000]</th>\n",
       "      <td>0.0</td>\n",
       "      <td>1</td>\n",
       "      <td>10.0</td>\n",
       "      <td>9</td>\n",
       "      <td>9.130351</td>\n",
       "      <td>3.740180</td>\n",
       "      <td>9.0</td>\n",
       "      <td>4</td>\n",
       "      <td>0.801124</td>\n",
       "      <td>0.607492</td>\n",
       "      <td>0.641799</td>\n",
       "      <td>0.369046</td>\n",
       "    </tr>\n",
       "    <tr>\n",
       "      <th>(3000, 50000]</th>\n",
       "      <td>0.0</td>\n",
       "      <td>1</td>\n",
       "      <td>10.0</td>\n",
       "      <td>9</td>\n",
       "      <td>9.190836</td>\n",
       "      <td>3.537326</td>\n",
       "      <td>9.0</td>\n",
       "      <td>4</td>\n",
       "      <td>0.787591</td>\n",
       "      <td>0.820967</td>\n",
       "      <td>0.620299</td>\n",
       "      <td>0.673986</td>\n",
       "    </tr>\n",
       "  </tbody>\n",
       "</table>\n",
       "</div>"
      ],
      "text/plain": [
       "                 min              max                mean           median  \\\n",
       "              APGAR5 CONSULTAS APGAR5 CONSULTAS    APGAR5 CONSULTAS APGAR5   \n",
       "munResArea                                                                   \n",
       "(0, 3000]        0.0         1   10.0         9  9.130351  3.740180    9.0   \n",
       "(3000, 50000]    0.0         1   10.0         9  9.190836  3.537326    9.0   \n",
       "\n",
       "                              std                 var            \n",
       "              CONSULTAS    APGAR5 CONSULTAS    APGAR5 CONSULTAS  \n",
       "munResArea                                                       \n",
       "(0, 3000]             4  0.801124  0.607492  0.641799  0.369046  \n",
       "(3000, 50000]         4  0.787591  0.820967  0.620299  0.673986  "
      ]
     },
     "execution_count": 9,
     "metadata": {},
     "output_type": "execute_result"
    }
   ],
   "source": [
    "df.pivot_table( \n",
    "                index = intervalo_areas,\n",
    "                values = ['APGAR5', 'CONSULTAS'],\n",
    "                aggfunc = ['min', 'max', 'mean', 'median', 'std', 'var']\n",
    "              )"
   ]
  },
  {
   "cell_type": "markdown",
   "metadata": {},
   "source": [
    "### 3. Determine faixas na variável munResAlt e aplique o groupby usando essas faixas como chave e realize operações de soma, media, minimo, maximo, mediana, desvio padrao, variancia pra pelo menos 2 variáveis numéricas ainda não utilizadas"
   ]
  },
  {
   "cell_type": "code",
   "execution_count": 10,
   "metadata": {},
   "outputs": [],
   "source": [
    "intervalo_altitudes = pd.qcut( x = df['munResAlt'], q = 4 )"
   ]
  },
  {
   "cell_type": "code",
   "execution_count": 11,
   "metadata": {},
   "outputs": [
    {
     "data": {
      "text/html": [
       "<div>\n",
       "<style scoped>\n",
       "    .dataframe tbody tr th:only-of-type {\n",
       "        vertical-align: middle;\n",
       "    }\n",
       "\n",
       "    .dataframe tbody tr th {\n",
       "        vertical-align: top;\n",
       "    }\n",
       "\n",
       "    .dataframe thead tr th {\n",
       "        text-align: left;\n",
       "    }\n",
       "\n",
       "    .dataframe thead tr:last-of-type th {\n",
       "        text-align: right;\n",
       "    }\n",
       "</style>\n",
       "<table border=\"1\" class=\"dataframe\">\n",
       "  <thead>\n",
       "    <tr>\n",
       "      <th></th>\n",
       "      <th colspan=\"2\" halign=\"left\">min</th>\n",
       "      <th colspan=\"2\" halign=\"left\">max</th>\n",
       "      <th colspan=\"2\" halign=\"left\">mean</th>\n",
       "      <th colspan=\"2\" halign=\"left\">median</th>\n",
       "      <th colspan=\"2\" halign=\"left\">std</th>\n",
       "      <th colspan=\"2\" halign=\"left\">var</th>\n",
       "    </tr>\n",
       "    <tr>\n",
       "      <th></th>\n",
       "      <th>APGAR5</th>\n",
       "      <th>CONSULTAS</th>\n",
       "      <th>APGAR5</th>\n",
       "      <th>CONSULTAS</th>\n",
       "      <th>APGAR5</th>\n",
       "      <th>CONSULTAS</th>\n",
       "      <th>APGAR5</th>\n",
       "      <th>CONSULTAS</th>\n",
       "      <th>APGAR5</th>\n",
       "      <th>CONSULTAS</th>\n",
       "      <th>APGAR5</th>\n",
       "      <th>CONSULTAS</th>\n",
       "    </tr>\n",
       "    <tr>\n",
       "      <th>munResAlt</th>\n",
       "      <th></th>\n",
       "      <th></th>\n",
       "      <th></th>\n",
       "      <th></th>\n",
       "      <th></th>\n",
       "      <th></th>\n",
       "      <th></th>\n",
       "      <th></th>\n",
       "      <th></th>\n",
       "      <th></th>\n",
       "      <th></th>\n",
       "      <th></th>\n",
       "    </tr>\n",
       "  </thead>\n",
       "  <tbody>\n",
       "    <tr>\n",
       "      <th>(84.999, 87.0]</th>\n",
       "      <td>0.0</td>\n",
       "      <td>1</td>\n",
       "      <td>10.0</td>\n",
       "      <td>9</td>\n",
       "      <td>9.214294</td>\n",
       "      <td>3.337702</td>\n",
       "      <td>9.0</td>\n",
       "      <td>4</td>\n",
       "      <td>0.761006</td>\n",
       "      <td>0.982834</td>\n",
       "      <td>0.579130</td>\n",
       "      <td>0.965962</td>\n",
       "    </tr>\n",
       "    <tr>\n",
       "      <th>(87.0, 153.0]</th>\n",
       "      <td>0.0</td>\n",
       "      <td>1</td>\n",
       "      <td>10.0</td>\n",
       "      <td>9</td>\n",
       "      <td>9.253057</td>\n",
       "      <td>3.567244</td>\n",
       "      <td>9.0</td>\n",
       "      <td>4</td>\n",
       "      <td>0.824080</td>\n",
       "      <td>0.740259</td>\n",
       "      <td>0.679108</td>\n",
       "      <td>0.547984</td>\n",
       "    </tr>\n",
       "    <tr>\n",
       "      <th>(153.0, 191.0]</th>\n",
       "      <td>0.0</td>\n",
       "      <td>1</td>\n",
       "      <td>10.0</td>\n",
       "      <td>9</td>\n",
       "      <td>9.133256</td>\n",
       "      <td>3.746180</td>\n",
       "      <td>9.0</td>\n",
       "      <td>4</td>\n",
       "      <td>0.785972</td>\n",
       "      <td>0.580052</td>\n",
       "      <td>0.617751</td>\n",
       "      <td>0.336460</td>\n",
       "    </tr>\n",
       "    <tr>\n",
       "      <th>(191.0, 595.0]</th>\n",
       "      <td>0.0</td>\n",
       "      <td>1</td>\n",
       "      <td>10.0</td>\n",
       "      <td>9</td>\n",
       "      <td>9.125620</td>\n",
       "      <td>3.725375</td>\n",
       "      <td>9.0</td>\n",
       "      <td>4</td>\n",
       "      <td>0.802339</td>\n",
       "      <td>0.620341</td>\n",
       "      <td>0.643749</td>\n",
       "      <td>0.384823</td>\n",
       "    </tr>\n",
       "  </tbody>\n",
       "</table>\n",
       "</div>"
      ],
      "text/plain": [
       "                  min              max                mean           median  \\\n",
       "               APGAR5 CONSULTAS APGAR5 CONSULTAS    APGAR5 CONSULTAS APGAR5   \n",
       "munResAlt                                                                     \n",
       "(84.999, 87.0]    0.0         1   10.0         9  9.214294  3.337702    9.0   \n",
       "(87.0, 153.0]     0.0         1   10.0         9  9.253057  3.567244    9.0   \n",
       "(153.0, 191.0]    0.0         1   10.0         9  9.133256  3.746180    9.0   \n",
       "(191.0, 595.0]    0.0         1   10.0         9  9.125620  3.725375    9.0   \n",
       "\n",
       "                               std                 var            \n",
       "               CONSULTAS    APGAR5 CONSULTAS    APGAR5 CONSULTAS  \n",
       "munResAlt                                                         \n",
       "(84.999, 87.0]         4  0.761006  0.982834  0.579130  0.965962  \n",
       "(87.0, 153.0]          4  0.824080  0.740259  0.679108  0.547984  \n",
       "(153.0, 191.0]         4  0.785972  0.580052  0.617751  0.336460  \n",
       "(191.0, 595.0]         4  0.802339  0.620341  0.643749  0.384823  "
      ]
     },
     "execution_count": 11,
     "metadata": {},
     "output_type": "execute_result"
    }
   ],
   "source": [
    "df.pivot_table( \n",
    "                index = intervalo_altitudes,\n",
    "                values = ['APGAR5', 'CONSULTAS'],\n",
    "                aggfunc = ['min', 'max', 'mean', 'median', 'std', 'var']\n",
    "              )"
   ]
  },
  {
   "cell_type": "markdown",
   "metadata": {},
   "source": [
    "### 4. Plote no mesmo grafico ao longo do tempo a idade media das mulheres de cada regiao imediatas de rondonia\n",
    "https://pt.wikipedia.org/wiki/Lista_de_regi%C3%B5es_geogr%C3%A1ficas_intermedi%C3%A1rias_e_imediatas_de_Rond%C3%B4nia"
   ]
  },
  {
   "cell_type": "code",
   "execution_count": 12,
   "metadata": {},
   "outputs": [],
   "source": [
    "regioes_imediatas = {\n",
    "    \n",
    "    \"Candeias do Jamari\": \"Porto Velho\",\n",
    "    \"Guajará-Mirim\": \"Porto Velho\",\n",
    "    \"Itapuã do Oeste\": \"Porto Velho\",\n",
    "    \"Nova Mamoré\": \"Porto Velho\",\n",
    "    \"Porto Velho\": \"Porto Velho\",\n",
    "    \n",
    "    \"Alto Paraíso\": \"Ariquemes\",\n",
    "    \"Ariquemes\": \"Ariquemes\",\n",
    "    \"Buritis\": \"Ariquemes\",\n",
    "    \"Cacaulândia\": \"Ariquemes\",\n",
    "    \"Campo Novo de Rondônia\": \"Ariquemes\",\n",
    "    \"Cujubim\": \"Ariquemes\",\n",
    "    \"Monte Negro\": \"Ariquemes\",\n",
    "    \"Rio Crespo\": \"Ariquemes\",\n",
    "    \n",
    "    \"Governador Jorge Teixeira\": \"Jaru\",\n",
    "    \"Jaru\": \"Jaru\",\n",
    "    \"Machadinho d'Oeste\": \"Jaru\",\n",
    "    \"Theobroma\": \"Jaru\",\n",
    "    \"Vale do Anari\": \"Jaru\",\n",
    "    \n",
    "    \"Alvorada d'Oeste\": \"Ji-Paraná\",\n",
    "    \"Costa Marques\": \"Ji-Paraná\",\n",
    "    \"Ji-Paraná\": \"Ji-Paraná\",\n",
    "    \"Mirante da Serra\": \"Ji-Paraná\",\n",
    "    \"Nova União\": \"Ji-Paraná\",\n",
    "    \"Ouro Preto do Oeste\": \"Ji-Paraná\",\n",
    "    \"Presidente Médici\": \"Ji-Paraná\",\n",
    "    \"São Francisco do Guaporé\": \"Ji-Paraná\",\n",
    "    \"São Miguel do Guaporé\": \"Ji-Paraná\",\n",
    "    \"Seringueiras\": \"Ji-Paraná\",\n",
    "    \"Teixeirópolis\": \"Ji-Paraná\",\n",
    "    \"Urupá\": \"Ji-Paraná\",\n",
    "    \"Vale do Paraíso\": \"Ji-Paraná\",\n",
    "    \n",
    "    \"Alta Floresta d'Oeste\": \"Cacoal\",\n",
    "    \"Alto Alegre dos Parecis\": \"Cacoal\",\n",
    "    \"Cacoal\": \"Cacoal\",\n",
    "    \"Castanheiras\": \"Cacoal\",\n",
    "    \"Espigão d'Oeste\": \"Cacoal\",\n",
    "    \"Ministro Andreazza\": \"Cacoal\",\n",
    "    \"Nova Brasilândia d'Oeste\": \"Cacoal\",\n",
    "    \"Novo Horizonte do Oeste\": \"Cacoal\",\n",
    "    \"Parecis\": \"Cacoal\",\n",
    "    \"Pimenta Bueno\": \"Cacoal\",\n",
    "    \"Primavera de Rondônia\": \"Cacoal\",\n",
    "    \"Rolim de Moura\": \"Cacoal\",\n",
    "    \"Santa Luzia d'Oeste\": \"Cacoal\",\n",
    "    \"São Felipe d'Oeste\": \"Cacoal\",\n",
    "    \n",
    "    \"Cabixi\": \"Vilhena\",\n",
    "    \"Cerejeiras\": \"Vilhena\",\n",
    "    \"Chupinguaia\": \"Vilhena\",\n",
    "    \"Colorado do Oeste\": \"Vilhena\",\n",
    "    \"Corumbiara\": \"Vilhena\",\n",
    "    \"Pimenteiras do Oeste\": \"Vilhena\",\n",
    "    \"Vilhena\": \"Vilhena\"\n",
    "}"
   ]
  },
  {
   "cell_type": "code",
   "execution_count": 13,
   "metadata": {},
   "outputs": [
    {
     "data": {
      "text/plain": [
       "dict"
      ]
     },
     "execution_count": 13,
     "metadata": {},
     "output_type": "execute_result"
    }
   ],
   "source": [
    "type(regioes_imediatas)"
   ]
  },
  {
   "cell_type": "code",
   "execution_count": 14,
   "metadata": {},
   "outputs": [],
   "source": [
    "df = sinasc_raw[ ['IDADEMAE', 'munResNome'] ].copy()\n",
    "df.set_index(keys = 'munResNome', inplace=True)"
   ]
  },
  {
   "cell_type": "code",
   "execution_count": 15,
   "metadata": {},
   "outputs": [
    {
     "data": {
      "text/html": [
       "<div>\n",
       "<style scoped>\n",
       "    .dataframe tbody tr th:only-of-type {\n",
       "        vertical-align: middle;\n",
       "    }\n",
       "\n",
       "    .dataframe tbody tr th {\n",
       "        vertical-align: top;\n",
       "    }\n",
       "\n",
       "    .dataframe thead th {\n",
       "        text-align: right;\n",
       "    }\n",
       "</style>\n",
       "<table border=\"1\" class=\"dataframe\">\n",
       "  <thead>\n",
       "    <tr style=\"text-align: right;\">\n",
       "      <th></th>\n",
       "      <th>IDADEMAE</th>\n",
       "    </tr>\n",
       "    <tr>\n",
       "      <th>munResNome</th>\n",
       "      <th></th>\n",
       "    </tr>\n",
       "  </thead>\n",
       "  <tbody>\n",
       "    <tr>\n",
       "      <th>Ariquemes</th>\n",
       "      <td>25.459635</td>\n",
       "    </tr>\n",
       "    <tr>\n",
       "      <th>Cacoal</th>\n",
       "      <td>26.434757</td>\n",
       "    </tr>\n",
       "    <tr>\n",
       "      <th>Jaru</th>\n",
       "      <td>25.805579</td>\n",
       "    </tr>\n",
       "    <tr>\n",
       "      <th>Ji-Paraná</th>\n",
       "      <td>26.108682</td>\n",
       "    </tr>\n",
       "    <tr>\n",
       "      <th>Porto Velho</th>\n",
       "      <td>26.166303</td>\n",
       "    </tr>\n",
       "    <tr>\n",
       "      <th>Vilhena</th>\n",
       "      <td>26.417143</td>\n",
       "    </tr>\n",
       "  </tbody>\n",
       "</table>\n",
       "</div>"
      ],
      "text/plain": [
       "              IDADEMAE\n",
       "munResNome            \n",
       "Ariquemes    25.459635\n",
       "Cacoal       26.434757\n",
       "Jaru         25.805579\n",
       "Ji-Paraná    26.108682\n",
       "Porto Velho  26.166303\n",
       "Vilhena      26.417143"
      ]
     },
     "execution_count": 15,
     "metadata": {},
     "output_type": "execute_result"
    }
   ],
   "source": [
    "media_por_imediata = df.groupby(regioes_imediatas).mean()\n",
    "media_por_imediata"
   ]
  },
  {
   "cell_type": "code",
   "execution_count": 16,
   "metadata": {},
   "outputs": [
    {
     "ename": "NameError",
     "evalue": "name 'eixo_x' is not defined",
     "output_type": "error",
     "traceback": [
      "\u001b[1;31m---------------------------------------------------------------------------\u001b[0m",
      "\u001b[1;31mNameError\u001b[0m                                 Traceback (most recent call last)",
      "Cell \u001b[1;32mIn[16], line 14\u001b[0m\n\u001b[0;32m     10\u001b[0m ax\u001b[38;5;241m.\u001b[39maxhline(y \u001b[38;5;241m=\u001b[39m media_por_imediata[\u001b[38;5;124m'\u001b[39m\u001b[38;5;124mIDADEMAE\u001b[39m\u001b[38;5;124m'\u001b[39m]\u001b[38;5;241m.\u001b[39mmedian(), color \u001b[38;5;241m=\u001b[39m \u001b[38;5;124m'\u001b[39m\u001b[38;5;124mred\u001b[39m\u001b[38;5;124m'\u001b[39m, linestyle \u001b[38;5;241m=\u001b[39m \u001b[38;5;124m'\u001b[39m\u001b[38;5;124m:\u001b[39m\u001b[38;5;124m'\u001b[39m )\n\u001b[0;32m     13\u001b[0m \u001b[38;5;66;03m# marca cada um dos valores de Y nos pontos\u001b[39;00m\n\u001b[1;32m---> 14\u001b[0m \u001b[38;5;28;01mfor\u001b[39;00m x \u001b[38;5;129;01min\u001b[39;00m \u001b[43meixo_x\u001b[49m:\n\u001b[0;32m     16\u001b[0m     ax\u001b[38;5;241m.\u001b[39mannotate( text \u001b[38;5;241m=\u001b[39m \u001b[38;5;28mstr\u001b[39m( \u001b[38;5;28mround\u001b[39m( media_por_imediata\u001b[38;5;241m.\u001b[39mloc[x , \u001b[38;5;124m'\u001b[39m\u001b[38;5;124mIDADEMAE\u001b[39m\u001b[38;5;124m'\u001b[39m], \u001b[38;5;241m2\u001b[39m ) ),\n\u001b[0;32m     17\u001b[0m                  xy \u001b[38;5;241m=\u001b[39m (x, media_por_imediata\u001b[38;5;241m.\u001b[39mloc[x,\u001b[38;5;124m'\u001b[39m\u001b[38;5;124mIDADEMAE\u001b[39m\u001b[38;5;124m'\u001b[39m]),\n\u001b[0;32m     18\u001b[0m                  ha\u001b[38;5;241m=\u001b[39m\u001b[38;5;124m'\u001b[39m\u001b[38;5;124mcenter\u001b[39m\u001b[38;5;124m'\u001b[39m, va\u001b[38;5;241m=\u001b[39m\u001b[38;5;124m'\u001b[39m\u001b[38;5;124mbottom\u001b[39m\u001b[38;5;124m'\u001b[39m)\n\u001b[0;32m     20\u001b[0m plt\u001b[38;5;241m.\u001b[39mplot()\n",
      "\u001b[1;31mNameError\u001b[0m: name 'eixo_x' is not defined"
     ]
    },
    {
     "data": {
      "image/png": "[encoded data removed]",
      "text/plain": [
       "<Figure size 1300x500 with 1 Axes>"
      ]
     },
     "metadata": {},
     "output_type": "display_data"
    }
   ],
   "source": [
    "plt.figure(figsize=[13,5])\n",
    "\n",
    "ax = sns.lineplot( data = media_por_imediata, \n",
    "                   x = media_por_imediata.index, \n",
    "                   y = media_por_imediata['IDADEMAE'] )\n",
    "\n",
    "\n",
    "\n",
    "# traça linha na mediana\n",
    "ax.axhline(y = media_por_imediata['IDADEMAE'].median(), color = 'red', linestyle = ':' )\n",
    "\n",
    "\n",
    "# marca cada um dos valores de Y nos pontos\n",
    "for x in eixo_x:\n",
    "    \n",
    "    ax.annotate( text = str( round( media_por_imediata.loc[x , 'IDADEMAE'], 2 ) ),\n",
    "                 xy = (x, media_por_imediata.loc[x,'IDADEMAE']),\n",
    "                 ha='center', va='bottom')\n",
    "\n",
    "plt.plot()"
   ]
  },
  {
   "cell_type": "markdown",
   "metadata": {},
   "source": [
    "### 5. Utilize a tabela do link abaixo e crie faixas utilizando o mapping e gere agrupamentos utilizando essas faixas como chave\n"
   ]
  },
  {
   "cell_type": "markdown",
   "metadata": {},
   "source": [
    "### 5.1 IDH\n",
    "A - https://pt.wikipedia.org/wiki/Lista_de_munic%C3%ADpios_de_Rond%C3%B4nia_por_IDH-M\n"
   ]
  },
  {
   "cell_type": "code",
   "execution_count": null,
   "metadata": {},
   "outputs": [],
   "source": [
    "mapping_IDH = {\n",
    "    \n",
    "    \"Porto Velho\": \"IDH-M alto\", \n",
    "    \"Vilhena\": \"IDH-M alto\", \n",
    "    \"Cacoal\": \"IDH-M alto\", \n",
    "    \"Ji-Paraná\": \"IDH-M alto\", \n",
    "    \"Pimenta Bueno\": \"IDH-M alto\", \n",
    "    \"Ariquemes\": \"IDH-M alto\", \n",
    "    \"Rolim de Moura\": \"IDH-M alto\",\n",
    "    \n",
    "    \"Cerejeiras\": \"IDH-M médio\",\n",
    "    \"Jaru\": \"IDH-M médio\",\n",
    "    \"Colorado do Oeste\": \"IDH-M médio\",\n",
    "    \"Ouro Preto do Oeste\": \"IDH-M médio\",\n",
    "    \"Espigão d'Oeste\": \"IDH-M médio\",\n",
    "    \"Santa Luzia d'Oeste\": \"IDH-M médio\",\n",
    "    \"Pimenteiras do Oeste\": \"IDH-M médio\",\n",
    "    \"Presidente Médici\": \"IDH-M médio\",\n",
    "    \"Castanheiras\": \"IDH-M médio\",\n",
    "    \"Guajará-Mirim\": \"IDH-M médio\",\n",
    "    \"Chupinguaia\": \"IDH-M médio\",\n",
    "    \"Cabixi\": \"IDH-M médio\",\n",
    "    \"Candeias do Jamari\": \"IDH-M médio\",\n",
    "    \"São Felipe d'Oeste\": \"IDH-M médio\",\n",
    "    \"Cacaulândia\": \"IDH-M médio\",\n",
    "    \"São Miguel do Guaporé\": \"IDH-M médio\",\n",
    "    \"Mirante da Serra\": \"IDH-M médio\",\n",
    "    \"Alvorada d'Oeste\": \"IDH-M médio\",\n",
    "    \"Teixeirópolis\": \"IDH-M médio\",\n",
    "    \"Nova Brasilândia d'Oeste\": \"IDH-M médio\",\n",
    "    \"Rio Crespo\": \"IDH-M médio\",\n",
    "    \"Primavera de Rondônia\": \"IDH-M médio\",\n",
    "    \"Alta Floresta d'Oeste\": \"IDH-M médio\",\n",
    "    \"Ministro Andreazza\": \"IDH-M médio\",\n",
    "    \"Novo Horizonte do Oeste\": \"IDH-M médio\",\n",
    "    \"Vale do Paraíso\": \"IDH-M médio\",\n",
    "    \"Alto Paraíso\": \"IDH-M médio\",\n",
    "    \"Parecis\": \"IDH-M médio\",\n",
    "    \"Buritis\": \"IDH-M médio\",\n",
    "    \"Itapuã do Oeste\": \"IDH-M médio\",\n",
    "    \"Corumbiara\": \"IDH-M médio\",\n",
    "    \"Cujubim\": \"IDH-M médio\",\n",
    "    \"Costa Marques\": \"IDH-M médio\",\n",
    "    \"São Francisco do Guaporé\": \"IDH-M médio\",\n",
    "    \"Urupá\": \"IDH-M médio\",\n",
    "    \"Monte Negro\": \"IDH-M médio\",\n",
    "    \n",
    "    \"Seringueiras\": \"IDH-M baixo\",\n",
    "    \"Governador Jorge Teixeira\": \"IDH-M baixo\",\n",
    "    \"Machadinho d'Oeste\": \"IDH-M baixo\",\n",
    "    \"Campo Novo de Rondônia\": \"IDH-M baixo\",\n",
    "    \"Alto Alegre dos Parecis\": \"IDH-M baixo\",\n",
    "    \"Theobroma\": \"IDH-M baixo\",\n",
    "    \"Nova União\": \"IDH-M baixo\",\n",
    "    \"Nova Mamoré\": \"IDH-M baixo\",\n",
    "    \"Vale do Anari\": \"IDH-M baixo\"\n",
    "}"
   ]
  },
  {
   "cell_type": "code",
   "execution_count": null,
   "metadata": {},
   "outputs": [],
   "source": [
    "df.columns"
   ]
  },
  {
   "cell_type": "code",
   "execution_count": null,
   "metadata": {},
   "outputs": [],
   "source": [
    "df = sinasc_raw[ \n",
    "    \n",
    "    ['munResNome', 'IDADEMAE', 'ESCMAE', 'IDADEPAI', 'GESTACAO', 'CONSULTAS', 'QTDFILVIVO', 'QTDFILMORT', 'APGAR1', 'APGAR5', 'PESO'] \n",
    "\n",
    "].copy()\n",
    "\n",
    "df.set_index('munResNome', inplace=True)"
   ]
  },
  {
   "cell_type": "code",
   "execution_count": null,
   "metadata": {},
   "outputs": [],
   "source": [
    "agrupamento = df.groupby([mapping_IDH, 'ESCMAE'])\n",
    "agrupamento.mean(numeric_only=True)"
   ]
  },
  {
   "cell_type": "markdown",
   "metadata": {},
   "source": [
    "### 5.2 IFDM \n",
    "B - https://pt.wikipedia.org/wiki/Lista_de_munic%C3%ADpios_de_Rond%C3%B4nia_por_IFDM\n"
   ]
  },
  {
   "cell_type": "code",
   "execution_count": null,
   "metadata": {},
   "outputs": [],
   "source": [
    "mapping_IFMD = {\n",
    "    \n",
    "    \"Ariquemes\": \"Desenvolvimento moderado\",\n",
    "    \"Vilhena\": \"Desenvolvimento moderado\",\n",
    "    \"Pimenta Bueno\": \"Desenvolvimento moderado\",\n",
    "    \"Porto Velho\": \"Desenvolvimento moderado\",\n",
    "    \"Ji-Paraná\": \"Desenvolvimento moderado\",\n",
    "    \"Cacoal\": \"Desenvolvimento moderado\",\n",
    "    \"Santa Luzia d'Oeste\": \"Desenvolvimento moderado\",\n",
    "    \"Rolim de Moura\": \"Desenvolvimento moderado\",\n",
    "    \"Chupinguaia\": \"Desenvolvimento moderado\",\n",
    "    \"São Miguel do Guaporé\": \"Desenvolvimento moderado\",\n",
    "    \"Pimenteiras do Oeste\": \"Desenvolvimento moderado\",\n",
    "    \"Teixeirópolis\": \"Desenvolvimento moderado\",\n",
    "    \"Colorado do Oeste\": \"Desenvolvimento moderado\",\n",
    "    \"Jaru\": \"Desenvolvimento moderado\",\n",
    "    \"Rio Crespo\": \"Desenvolvimento moderado\",\n",
    "    \"Primavera de Rondônia\": \"Desenvolvimento moderado\",\n",
    "    \"Alta Floresta d'Oeste\": \"Desenvolvimento moderado\",\n",
    "    \"Ouro Preto do Oeste\": \"Desenvolvimento moderado\",\n",
    "    \"São Francisco do Guaporé\": \"Desenvolvimento moderado\",\n",
    "    \"Candeias do Jamari\": \"Desenvolvimento moderado\",\n",
    "    \"Buritis\": \"Desenvolvimento moderado\",\n",
    "    \"São Felipe d'Oeste\": \"Desenvolvimento moderado\",\n",
    "    \"Presidente Médici\": \"Desenvolvimento moderado\",\n",
    "    \"Cerejeiras\": \"Desenvolvimento moderado\",\n",
    "    \"Monte Negro\": \"Desenvolvimento moderado\",\n",
    "    \"Urupá\": \"Desenvolvimento moderado\",\n",
    "    \n",
    "    \"Espigão d'Oeste\": \"Desenvolvimento regular\",\n",
    "    \"Seringueiras\": \"Desenvolvimento regular\",\n",
    "    \"Alvorada d'Oeste\": \"Desenvolvimento regular\",\n",
    "    \"Itapuã do Oeste\": \"Desenvolvimento regular\",\n",
    "    \"Cabixi\": \"Desenvolvimento regular\",\n",
    "    \"Novo Horizonte do Oeste\": \"Desenvolvimento regular\",\n",
    "    \"Nova Brasilândia d'Oeste\": \"Desenvolvimento regular\",\n",
    "    \"Vale do Paraíso\": \"Desenvolvimento regular\",\n",
    "    \"Corumbiara\": \"Desenvolvimento regular\",\n",
    "    \"Alto Paraíso\": \"Desenvolvimento regular\",\n",
    "    \"Cacaulândia\": \"Desenvolvimento regular\",\n",
    "    \"Vale do Anari\": \"Desenvolvimento regular\",\n",
    "    \"Ministro Andreazza\": \"Desenvolvimento regular\",\n",
    "    \"Costa Marques\": \"Desenvolvimento regular\",\n",
    "    \"Nova União\": \"Desenvolvimento regular\",\n",
    "    \"Guajará-Mirim\": \"Desenvolvimento regular\",\n",
    "    \"Mirante da Serra\": \"Desenvolvimento regular\",\n",
    "    \"Parecis\": \"Desenvolvimento regular\",\n",
    "    \"Castanheiras\": \"Desenvolvimento regular\",\n",
    "    \"Theobroma\": \"Desenvolvimento regular\",\n",
    "    \"Machadinho d'Oeste\": \"Desenvolvimento regular\",\n",
    "    \"Campo Novo de Rondônia\": \"Desenvolvimento regular\",\n",
    "    \"Nova Mamoré\": \"Desenvolvimento regular\",\n",
    "    \"Cujubim\": \"Desenvolvimento regular\",\n",
    "    \"Alto Alegre dos Parecis\": \"Desenvolvimento regular\",\n",
    "    \"Governador Jorge Teixeira\": \"Desenvolvimento regular\"\n",
    "    \n",
    "}"
   ]
  },
  {
   "cell_type": "code",
   "execution_count": null,
   "metadata": {},
   "outputs": [],
   "source": [
    "df = sinasc_raw[ \n",
    "    \n",
    "    ['munResNome', 'IDADEMAE', 'ESCMAE', 'IDADEPAI', 'GESTACAO', 'CONSULTAS', 'QTDFILVIVO', 'QTDFILMORT', 'APGAR1', 'APGAR5', 'PESO'] \n",
    "\n",
    "].copy()\n",
    "\n",
    "df.set_index('munResNome', inplace=True)"
   ]
  },
  {
   "cell_type": "code",
   "execution_count": null,
   "metadata": {},
   "outputs": [],
   "source": [
    "agrupamento = df.groupby([mapping_IFMD, 'ESCMAE'])\n",
    "agrupamento.mean(True)"
   ]
  },
  {
   "cell_type": "markdown",
   "metadata": {},
   "source": [
    "### 5.3 PIB\n",
    "C - https://pt.wikipedia.org/wiki/Lista_de_munic%C3%ADpios_de_Rond%C3%B4nia_por_PIB\n"
   ]
  },
  {
   "cell_type": "code",
   "execution_count": null,
   "metadata": {},
   "outputs": [],
   "source": [
    "mapping_PIP = {\n",
    "    \n",
    "    \"Porto Velho\": \"Acima 1B\",\n",
    "    \"Ji-Paraná\": \"Acima 1B\",\n",
    "    \"Vilhena\": \"Acima 1B\",\n",
    "    \"Ariquemes\": \"Acima 1B\",\n",
    "    \"Cacoal\": \"Acima 1B\",\n",
    "    \"Jaru\": \"Acima 1B\",\n",
    "    \"Rolim de Moura\": \"Acima 1B\",\n",
    "    \"Pimenta Bueno\": \"Acima 1B\",\n",
    "    \n",
    "    \"Guajará-Mirim\": \"Acima 500M\",\n",
    "    \"Ouro Preto do Oeste\": \"Acima 500M\",\n",
    "    \"Buritis\": \"Acima 500M\",\n",
    "    \"Machadinho do Oeste\": \"Acima 500M\",\n",
    "    \"Espigão d'Oeste\": \"Acima 500M\",\n",
    "    \"São Miguel do Guaporé\": \"Acima 500M\",\n",
    "    \"Candeias do Jamari\": \"Acima 500M\",\n",
    "    \"Nova Mamoré\": \"Acima 500M\",\n",
    "    \"Cerejeiras\": \"Acima 500M\",\n",
    "    \n",
    "    \"Alta Floresta do Oeste\": \"Acima 300M\",\n",
    "    \"Presidente Médici\": \"Acima 300M\",\n",
    "    \"Cujubim\": \"Acima 300M\",\n",
    "    \"Nova Brasilândia do Oeste\": \"Acima 300M\",\n",
    "    \"Alto Paraíso\": \"Acima 300M\",\n",
    "    \"São Francisco do Guaporé\": \"Acima 300M\",\n",
    "    \"Colorado do Oeste\": \"Acima 300M\",\n",
    "    \n",
    "    \"Monte Negro\": \"Acima 200M\", \n",
    "    \"Alto Alegre dos Parecis\": \"Acima 200M\", \n",
    "    \"Campo Novo de Rondônia\": \"Acima 200M\", \n",
    "    \"Alvorada do Oeste\": \"Acima 200M\", \n",
    "    \n",
    "    \"Chupinguaia\": \"Acima 100M\",\n",
    "    \"Corumbiara\": \"Acima 100M\",\n",
    "    \"Ministro Andreazza\": \"Acima 100M\",\n",
    "    \"Urupá\": \"Acima 100M\",\n",
    "    \"Costa Marques\": \"Acima 100M\",\n",
    "    \"Seringueiras\": \"Acima 100M\",\n",
    "    \"Mirante da Serra\": \"Acima 100M\",\n",
    "    \"Governador Jorge Teixeira\": \"Acima 100M\",\n",
    "    \"Theobroma\": \"Acima 100M\",\n",
    "    \"Santa Luzia do Oeste\": \"Acima 100M\",\n",
    "    \"Novo Horizonte do Oeste\": \"Acima 100M\",\n",
    "    \"Itapuã do Oeste\": \"Acima 100M\",\n",
    "    \"Vale do Paraíso\": \"Acima 100M\",\n",
    "    \"Cacaulândia\": \"Acima 100M\",\n",
    "    \"Cabixi\": \"Acima 100M\",\n",
    "    \"Vale do Anari\": \"Acima 100M\",\n",
    "    \n",
    "    \"Nova União\": \"Até 100M\",\n",
    "    \"Parecis\": \"Até 100M\",\n",
    "    \"Rio Crespo\": \"Até 100M\",\n",
    "    \"Pimenteiras do Oeste\": \"Até 100M\",\n",
    "    \"Teixeirópolis\": \"Até 100M\",\n",
    "    \"São Felipe do Oeste\": \"Até 100M\",\n",
    "    \"Castanheiras\": \"Até 100M\",\n",
    "    \"Primavera de Rondônia\": \"Até 100M\"\n",
    "    \n",
    "}"
   ]
  },
  {
   "cell_type": "code",
   "execution_count": null,
   "metadata": {},
   "outputs": [],
   "source": [
    "df = sinasc_raw[ \n",
    "    \n",
    "    ['munResNome', 'IDADEMAE', 'ESCMAE', 'IDADEPAI', 'GESTACAO', 'CONSULTAS', 'QTDFILVIVO', 'QTDFILMORT', 'APGAR1', 'APGAR5', 'PESO'] \n",
    "\n",
    "].copy()\n",
    "\n",
    "df.set_index('munResNome', inplace=True)"
   ]
  },
  {
   "cell_type": "code",
   "execution_count": null,
   "metadata": {},
   "outputs": [],
   "source": [
    "agrupamento = df.groupby([mapping_PIP, 'ESCMAE'])\n",
    "agrupamento.mean(numeric_only=True)"
   ]
  },
  {
   "cell_type": "code",
   "execution_count": null,
   "metadata": {},
   "outputs": [],
   "source": []
  },
  {
   "cell_type": "markdown",
   "metadata": {},
   "source": [
    "### Analise as respostas encontradas, tire algum insight delas, conte pra gente algo encontrado nos dados."
   ]
  },
  {
   "cell_type": "markdown",
   "metadata": {},
   "source": [
    "Exemplo:\n",
    "- Ah, descobri que a idade mediana das mulheres que deram a luz no ano de 2019 dos municipios com o PIB mais alto é a maior dentre todas."
   ]
  },
  {
   "cell_type": "markdown",
   "metadata": {},
   "source": [
    "Idade das mães que não possuem nenhuma escolaridade, são de 5 a 10 anos maiores nos municípios com PIP abaixo de 300M."
   ]
  },
  {
   "cell_type": "markdown",
   "metadata": {},
   "source": [
    "Nos municipios com IDH e PIP menores, o peso médio das crianças cuja mãe não tem nenhuma escolaridade, é o único abaixo de 3kg."
   ]
  },
  {
   "cell_type": "markdown",
   "metadata": {},
   "source": [
    "APGAR5 não tem relação direta com o IDH, PIP ou IFDM."
   ]
  }
 ],
 "metadata": {
  "kernelspec": {
   "display_name": "Python 3 (ipykernel)",
   "language": "python",
   "name": "python3"
  },
  "language_info": {
   "codemirror_mode": {
    "name": "ipython",
    "version": 3
   },
   "file_extension": ".py",
   "mimetype": "text/x-python",
   "name": "python",
   "nbconvert_exporter": "python",
   "pygments_lexer": "ipython3",
   "version": "3.10.9"
  },
  "varInspector": {
   "cols": {
    "lenName": 16,
    "lenType": 16,
    "lenVar": 40
   },
   "kernels_config": {
    "python": {
     "delete_cmd_postfix": "",
     "delete_cmd_prefix": "del ",
     "library": "var_list.py",
     "varRefreshCmd": "print(var_dic_list())"
    },
    "r": {
     "delete_cmd_postfix": ") ",
     "delete_cmd_prefix": "rm(",
     "library": "var_list.r",
     "varRefreshCmd": "cat(var_dic_list()) "
    }
   },
   "types_to_exclude": [
    "module",
    "function",
    "builtin_function_or_method",
    "instance",
    "_Feature"
   ],
   "window_display": false
  }
 },
 "nbformat": 4,
 "nbformat_minor": 4
}
