{
 "cells": [
  {
   "cell_type": "code",
   "execution_count": 22,
   "metadata": {
    "ExecuteTime": {
     "end_time": "2021-06-06T21:12:37.298706Z",
     "start_time": "2021-06-06T21:12:36.656481Z"
    },
    "scrolled": true
   },
   "outputs": [],
   "source": [
    "import numpy as np\n",
    "import pandas as pd\n",
    "import seaborn as sns\n",
    "import matplotlib.pyplot as plt\n",
    "\n",
    "import os\n",
    "\n",
    "\n",
    "\n",
    "# Funcao para geração dos gráficos\n",
    "#===========================================================================================================================#\n",
    "\n",
    "def gerar_grafico(df: pd.DataFrame, value: str, index: str, funcao: str, ylabel: str, xlabel: str, opcao: str='nada') -> None:\n",
    "    \n",
    "    if opcao == 'nada':\n",
    "    \n",
    "        ax = pd.pivot_table(df, \n",
    "                       values = value, \n",
    "                       index = index, \n",
    "                       aggfunc=funcao).plot(figsize=[18, 6])\n",
    "        \n",
    "        \n",
    "    elif opcao == 'unstack':\n",
    "        \n",
    "        ax = pd.pivot_table(df, \n",
    "                       values = value, \n",
    "                       index = index, \n",
    "                       aggfunc=funcao).unstack().plot(figsize=[18, 6])\n",
    "        \n",
    "        \n",
    "    elif opcao == 'sort':\n",
    "        \n",
    "        ax = pd.pivot_table(df, \n",
    "                       values = value, \n",
    "                       index = index, \n",
    "                       aggfunc=funcao).sort_values(value).plot(figsize=[18, 6])\n",
    "    \n",
    "    \n",
    "    ax.set_xlabel(xlabel)\n",
    "    ax.set_ylabel(ylabel)\n",
    "    \n",
    "    return None\n",
    "\n",
    "#===========================================================================================================================#\n",
    "\n",
    "\n",
    "\n",
    "# Loop de repetição para processar cada um dos meses\n",
    "\n",
    "meses = ['MAR', 'ABR', 'MAI', 'JUN', 'DEZ']\n",
    "\n",
    "for mes in meses:\n",
    "    \n",
    "    \n",
    "#   Leitura do dataframe\n",
    "    nome_df = f'SINASC_RO_2019_{mes}.csv'\n",
    "    df = pd.read_csv(nome_df)\n",
    "    \n",
    "    \n",
    "#   Pego a data máxima para nomear a pasta\n",
    "    data_maxima = max(df['DTNASC'])[0:7]\n",
    "    \n",
    "    \n",
    "#   Crio o diretório caso não axista \n",
    "    os.makedirs('./figuras/' + data_maxima, exist_ok=True)\n",
    "    \n",
    "    \n",
    "#   Gero e salvo cada um dos gráficos\n",
    "    gerar_grafico(df, 'IDADEMAE', ['DTNASC', 'SEXO'], 'mean', 'media idade mae','data de nascimento','unstack')\n",
    "    plt.savefig('./figuras/' + data_maxima + '/media idade mae por sexo')\n",
    "    \n",
    "    gerar_grafico(df, 'PESO', ['DTNASC', 'SEXO'], 'mean', 'media peso bebe','data de nascimento','unstack')\n",
    "    plt.savefig('./figuras/' + data_maxima + '/media peso bebe por sexo')\n",
    "    \n",
    "    gerar_grafico(df, 'PESO', 'ESCMAE', 'median', 'apgar1 medio','gestacao','sort')\n",
    "    plt.savefig('./figuras/' + data_maxima + '/media apgar1 por escolaridade mae')\n",
    "    \n",
    "    gerar_grafico(df, 'APGAR1', 'GESTACAO', 'mean', 'apgar1 medio','gestacao','sort')\n",
    "    plt.savefig('./figuras/' + data_maxima + '/media apgar1 por gestacao')\n",
    "    \n",
    "    gerar_grafico(df, 'APGAR5', 'GESTACAO', 'mean', 'apgar5 medio','gestacao','sort')\n",
    "    plt.savefig('./figuras/' + data_maxima + '/media apgar5 por gestacao')\n",
    "    \n",
    "    plt.close('all')\n",
    "    "
   ]
  },
  {
   "cell_type": "markdown",
   "metadata": {},
   "source": [
    "# Observação:\n",
    "\n",
    "Algo que ajudaria a automatizar ainda mais o código, é de alguma forma informar o nome do dataframe via algum parâmetro antes de executar o código.\n",
    "\n",
    "Dessa forma, o mesmo código serviria para todos os casos, sem precisar usar laços de repetição ou alterar o código para cada mês"
   ]
  }
 ],
 "metadata": {
  "kernelspec": {
   "display_name": "Python 3 (ipykernel)",
   "language": "python",
   "name": "python3"
  },
  "language_info": {
   "codemirror_mode": {
    "name": "ipython",
    "version": 3
   },
   "file_extension": ".py",
   "mimetype": "text/x-python",
   "name": "python",
   "nbconvert_exporter": "python",
   "pygments_lexer": "ipython3",
   "version": "3.10.9"
  },
  "varInspector": {
   "cols": {
    "lenName": 16,
    "lenType": 16,
    "lenVar": 40
   },
   "kernels_config": {
    "python": {
     "delete_cmd_postfix": "",
     "delete_cmd_prefix": "del ",
     "library": "var_list.py",
     "varRefreshCmd": "print(var_dic_list())"
    },
    "r": {
     "delete_cmd_postfix": ") ",
     "delete_cmd_prefix": "rm(",
     "library": "var_list.r",
     "varRefreshCmd": "cat(var_dic_list()) "
    }
   },
   "types_to_exclude": [
    "module",
    "function",
    "builtin_function_or_method",
    "instance",
    "_Feature"
   ],
   "window_display": false
  }
 },
 "nbformat": 4,
 "nbformat_minor": 4
}
