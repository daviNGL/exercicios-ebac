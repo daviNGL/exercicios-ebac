{
 "cells": [
  {
   "cell_type": "markdown",
   "metadata": {},
   "source": [
    "# Árvores II - Tarefa 2"
   ]
  },
  {
   "cell_type": "markdown",
   "metadata": {},
   "source": [
    "### 1. Carregar as bases\n",
    "\n",
    "Vamos carregar as bases lidas na tarefa passada. Se você salvou essas bases em arquivo texto, basta fazer a leitura com o comando ```pd.read_csv``` das seguintes bases:\n",
    "\n",
    "- X_train\n",
    "- Y_train\n",
    "- X_test\n",
    "- Y_test\n",
    "\n",
    "Não se esqueça de considerar a leitura dos índices dos arquivos no ```read_csv()```!"
   ]
  },
  {
   "cell_type": "code",
   "execution_count": 1,
   "metadata": {},
   "outputs": [],
   "source": [
    "import pandas as pd\n",
    "import seaborn as sns\n",
    "import matplotlib.pyplot as plt\n",
    "import numpy as np\n",
    "from sklearn.tree import DecisionTreeClassifier\n",
    "from sklearn.model_selection import train_test_split"
   ]
  },
  {
   "cell_type": "markdown",
   "metadata": {},
   "source": [
    "**Leitura das bases**"
   ]
  },
  {
   "cell_type": "code",
   "execution_count": 2,
   "metadata": {},
   "outputs": [],
   "source": [
    "x_treino = pd.read_csv('./x_treino.csv').drop(columns='Unnamed: 0')\n",
    "x_teste  = pd.read_csv('./x_teste.csv').drop(columns='Unnamed: 0')\n",
    "\n",
    "y_treino = pd.read_csv('./y_treino.csv').drop(columns='Unnamed: 0')\n",
    "y_teste  = pd.read_csv('./y_teste.csv').drop(columns='Unnamed: 0')\n",
    "\n",
    "x_treino.set_index([x_treino.index, 'subject'], inplace=True)\n",
    "x_teste.set_index([x_teste.index, 'subject'], inplace=True)"
   ]
  },
  {
   "cell_type": "markdown",
   "metadata": {},
   "source": [
    "### 2. Divisão da base em Treino, Validação e Teste\n",
    "\n",
    "A base já se encontra dividida em Treino e Validação. O que vamos fazer então é extrair uma base de Validação da base de Treino.\n",
    "\n",
    "Extraia 25% da base de treino como base de validação."
   ]
  },
  {
   "cell_type": "code",
   "execution_count": 3,
   "metadata": {},
   "outputs": [],
   "source": [
    "x_treino, x_validacao, y_treino, y_validacao = train_test_split(x_treino, y_treino, test_size=0.25)"
   ]
  },
  {
   "cell_type": "markdown",
   "metadata": {},
   "source": [
    "### 3. Melhores 3 variáveis\n",
    "\n",
    "Rode uma árvore com profundidade máxima igual a 4 para prever a atividade humana com todas as variáveis.\n",
    "Observe a importância das variáveis e considere as 3 variáveis com maior importância para os próximos passos.\n",
    "Dica: utilize o atributo ```clf.feature_importances_``` da árvore treinada."
   ]
  },
  {
   "cell_type": "code",
   "execution_count": 4,
   "metadata": {},
   "outputs": [
    {
     "data": {
      "text/plain": [
       "array([0.        , 0.        , 0.        , 0.        , 0.        ,\n",
       "       0.        , 0.        , 0.        , 0.        , 0.        ,\n",
       "       0.        , 0.        , 0.        , 0.        , 0.        ,\n",
       "       0.        , 0.        , 0.        , 0.        , 0.        ,\n",
       "       0.        , 0.        , 0.        , 0.        , 0.        ,\n",
       "       0.        , 0.        , 0.        , 0.        , 0.        ,\n",
       "       0.        , 0.        , 0.        , 0.        , 0.        ,\n",
       "       0.        , 0.        , 0.        , 0.        , 0.        ,\n",
       "       0.01084601, 0.        , 0.        , 0.        , 0.        ,\n",
       "       0.        , 0.        , 0.        , 0.        , 0.        ,\n",
       "       0.        , 0.        , 0.2865918 , 0.        , 0.        ,\n",
       "       0.        , 0.        , 0.        , 0.        , 0.        ,\n",
       "       0.        , 0.        , 0.        , 0.        , 0.        ,\n",
       "       0.        , 0.        , 0.        , 0.        , 0.12183042,\n",
       "       0.        , 0.        , 0.        , 0.        , 0.        ,\n",
       "       0.        , 0.        , 0.        , 0.        , 0.        ,\n",
       "       0.        , 0.        , 0.        , 0.        , 0.        ,\n",
       "       0.        , 0.        , 0.        , 0.        , 0.        ,\n",
       "       0.        , 0.        , 0.        , 0.        , 0.        ,\n",
       "       0.        , 0.        , 0.        , 0.        , 0.        ,\n",
       "       0.        , 0.        , 0.        , 0.        , 0.        ,\n",
       "       0.        , 0.        , 0.        , 0.        , 0.        ,\n",
       "       0.        , 0.        , 0.        , 0.        , 0.        ,\n",
       "       0.        , 0.        , 0.        , 0.        , 0.        ,\n",
       "       0.        , 0.        , 0.        , 0.        , 0.        ,\n",
       "       0.        , 0.        , 0.        , 0.        , 0.        ,\n",
       "       0.        , 0.        , 0.        , 0.        , 0.        ,\n",
       "       0.        , 0.        , 0.        , 0.        , 0.        ,\n",
       "       0.        , 0.        , 0.        , 0.        , 0.        ,\n",
       "       0.        , 0.        , 0.        , 0.        , 0.        ,\n",
       "       0.        , 0.        , 0.        , 0.00056714, 0.        ,\n",
       "       0.        , 0.        , 0.        , 0.        , 0.01653166,\n",
       "       0.        , 0.        , 0.        , 0.        , 0.        ,\n",
       "       0.        , 0.        , 0.        , 0.        , 0.        ,\n",
       "       0.        , 0.        , 0.        , 0.00056821, 0.        ,\n",
       "       0.        , 0.        , 0.        , 0.        , 0.        ,\n",
       "       0.        , 0.        , 0.        , 0.        , 0.        ,\n",
       "       0.        , 0.        , 0.        , 0.        , 0.        ,\n",
       "       0.        , 0.        , 0.        , 0.        , 0.        ,\n",
       "       0.        , 0.        , 0.        , 0.        , 0.        ,\n",
       "       0.        , 0.        , 0.        , 0.        , 0.        ,\n",
       "       0.        , 0.        , 0.        , 0.        , 0.        ,\n",
       "       0.        , 0.        , 0.        , 0.        , 0.12586863,\n",
       "       0.        , 0.        , 0.        , 0.        , 0.        ,\n",
       "       0.        , 0.        , 0.        , 0.        , 0.00039738,\n",
       "       0.        , 0.        , 0.        , 0.        , 0.        ,\n",
       "       0.        , 0.        , 0.        , 0.        , 0.        ,\n",
       "       0.00073413, 0.        , 0.        , 0.        , 0.        ,\n",
       "       0.        , 0.        , 0.        , 0.        , 0.        ,\n",
       "       0.        , 0.        , 0.        , 0.        , 0.        ,\n",
       "       0.        , 0.        , 0.        , 0.        , 0.        ,\n",
       "       0.        , 0.        , 0.        , 0.        , 0.        ,\n",
       "       0.        , 0.        , 0.        , 0.        , 0.        ,\n",
       "       0.        , 0.        , 0.        , 0.        , 0.        ,\n",
       "       0.        , 0.        , 0.        , 0.        , 0.        ,\n",
       "       0.        , 0.        , 0.        , 0.        , 0.        ,\n",
       "       0.        , 0.        , 0.        , 0.        , 0.        ,\n",
       "       0.        , 0.        , 0.        , 0.        , 0.        ,\n",
       "       0.        , 0.        , 0.        , 0.        , 0.        ,\n",
       "       0.        , 0.        , 0.        , 0.        , 0.        ,\n",
       "       0.        , 0.        , 0.        , 0.        , 0.        ,\n",
       "       0.        , 0.        , 0.        , 0.        , 0.        ,\n",
       "       0.        , 0.        , 0.        , 0.        , 0.        ,\n",
       "       0.        , 0.        , 0.        , 0.        , 0.        ,\n",
       "       0.        , 0.        , 0.        , 0.        , 0.        ,\n",
       "       0.        , 0.        , 0.        , 0.        , 0.        ,\n",
       "       0.        , 0.        , 0.        , 0.        , 0.        ,\n",
       "       0.        , 0.        , 0.        , 0.        , 0.        ,\n",
       "       0.        , 0.        , 0.        , 0.        , 0.        ,\n",
       "       0.        , 0.        , 0.        , 0.        , 0.        ,\n",
       "       0.        , 0.        , 0.        , 0.        , 0.        ,\n",
       "       0.        , 0.        , 0.        , 0.        , 0.        ,\n",
       "       0.        , 0.        , 0.        , 0.        , 0.        ,\n",
       "       0.        , 0.        , 0.        , 0.        , 0.        ,\n",
       "       0.        , 0.        , 0.        , 0.        , 0.        ,\n",
       "       0.        , 0.        , 0.        , 0.        , 0.        ,\n",
       "       0.        , 0.        , 0.        , 0.        , 0.        ,\n",
       "       0.        , 0.        , 0.        , 0.        , 0.26256967,\n",
       "       0.        , 0.        , 0.        , 0.        , 0.        ,\n",
       "       0.        , 0.        , 0.        , 0.        , 0.        ,\n",
       "       0.        , 0.        , 0.        , 0.        , 0.        ,\n",
       "       0.        , 0.        , 0.        , 0.        , 0.        ,\n",
       "       0.        , 0.        , 0.        , 0.        , 0.        ,\n",
       "       0.        , 0.        , 0.        , 0.        , 0.        ,\n",
       "       0.        , 0.        , 0.        , 0.        , 0.        ,\n",
       "       0.        , 0.0052819 , 0.        , 0.        , 0.        ,\n",
       "       0.        , 0.        , 0.        , 0.        , 0.        ,\n",
       "       0.        , 0.        , 0.        , 0.        , 0.        ,\n",
       "       0.        , 0.        , 0.        , 0.        , 0.        ,\n",
       "       0.        , 0.        , 0.        , 0.        , 0.        ,\n",
       "       0.        , 0.        , 0.        , 0.        , 0.        ,\n",
       "       0.        , 0.        , 0.        , 0.        , 0.        ,\n",
       "       0.        , 0.        , 0.        , 0.        , 0.        ,\n",
       "       0.        , 0.        , 0.        , 0.        , 0.        ,\n",
       "       0.        , 0.        , 0.        , 0.        , 0.        ,\n",
       "       0.        , 0.        , 0.        , 0.        , 0.        ,\n",
       "       0.        , 0.        , 0.        , 0.        , 0.        ,\n",
       "       0.        , 0.        , 0.        , 0.        , 0.        ,\n",
       "       0.        , 0.        , 0.        , 0.        , 0.        ,\n",
       "       0.        , 0.        , 0.        , 0.        , 0.        ,\n",
       "       0.        , 0.        , 0.        , 0.        , 0.        ,\n",
       "       0.        , 0.        , 0.        , 0.        , 0.        ,\n",
       "       0.        , 0.        , 0.        , 0.        , 0.        ,\n",
       "       0.        , 0.        , 0.        , 0.        , 0.        ,\n",
       "       0.        , 0.        , 0.        , 0.        , 0.        ,\n",
       "       0.        , 0.        , 0.        , 0.        , 0.        ,\n",
       "       0.        , 0.        , 0.        , 0.        , 0.        ,\n",
       "       0.        , 0.        , 0.        , 0.        , 0.        ,\n",
       "       0.        , 0.        , 0.        , 0.        , 0.        ,\n",
       "       0.        , 0.        , 0.        , 0.        , 0.        ,\n",
       "       0.        , 0.        , 0.        , 0.        , 0.        ,\n",
       "       0.        , 0.        , 0.        , 0.        , 0.16821306,\n",
       "       0.        ])"
      ]
     },
     "execution_count": 4,
     "metadata": {},
     "output_type": "execute_result"
    }
   ],
   "source": [
    "clf = DecisionTreeClassifier(max_depth=4).fit(x_treino, y_treino)\n",
    "\n",
    "importancias = clf.feature_importances_\n",
    "\n",
    "importancias"
   ]
  },
  {
   "cell_type": "code",
   "execution_count": 5,
   "metadata": {},
   "outputs": [
    {
     "data": {
      "text/plain": [
       "559               angle(Y,gravityMean)\n",
       "389    fBodyAccJerk-bandsEnergy()-1,16\n",
       "52                 tGravityAcc-min()-X\n",
       "Name: nome_coluna, dtype: object"
      ]
     },
     "execution_count": 5,
     "metadata": {},
     "output_type": "execute_result"
    }
   ],
   "source": [
    "# Crio um dataframe pra saber qual variável corresponde a cada valor\n",
    "importancias_variaveis = pd.DataFrame({\n",
    "    'nome_coluna': x_treino.columns,\n",
    "    'importance': importancias\n",
    "})\n",
    "\n",
    "# Pego o nome das 3 colunas mais significativas para o modelo\n",
    "colunas_significativas = importancias_variaveis.sort_values(by = 'importance').tail(3)['nome_coluna']\n",
    "\n",
    "colunas_significativas"
   ]
  },
  {
   "cell_type": "markdown",
   "metadata": {},
   "source": [
    "### 4. Construa uma árvore com as 3 melhores variáveis\n",
    "\n",
    "Utilizando as três variáveis encontradas acima, construa uma árvore de decisão. Encontre o melhor ```ccp_alpha``` utilizando a base de validação, conforme a estrutura que vimos em aula."
   ]
  },
  {
   "cell_type": "code",
   "execution_count": 6,
   "metadata": {},
   "outputs": [],
   "source": [
    "# Reduzo os dataframes para as 3 colunas selecionadas no passo anterior\n",
    "x_treino    = x_treino[colunas_significativas]\n",
    "x_validacao = x_validacao[colunas_significativas]\n",
    "x_teste     = x_teste[colunas_significativas]\n",
    "\n",
    "# Crio o modelo\n",
    "modelo = DecisionTreeClassifier()\n",
    "\n",
    "# Pego a lista de ccps_alpha\n",
    "ccps = modelo.cost_complexity_pruning_path(x_treino, y_treino).ccp_alphas"
   ]
  },
  {
   "cell_type": "markdown",
   "metadata": {},
   "source": [
    "**Cálculo do melhor ccp na base de validação**"
   ]
  },
  {
   "cell_type": "code",
   "execution_count": 7,
   "metadata": {},
   "outputs": [
    {
     "name": "stdout",
     "output_type": "stream",
     "text": [
      "CPU times: total: 6.86 s\n",
      "Wall time: 7.59 s\n"
     ]
    },
    {
     "data": {
      "text/html": [
       "<div>\n",
       "<style scoped>\n",
       "    .dataframe tbody tr th:only-of-type {\n",
       "        vertical-align: middle;\n",
       "    }\n",
       "\n",
       "    .dataframe tbody tr th {\n",
       "        vertical-align: top;\n",
       "    }\n",
       "\n",
       "    .dataframe thead th {\n",
       "        text-align: right;\n",
       "    }\n",
       "</style>\n",
       "<table border=\"1\" class=\"dataframe\">\n",
       "  <thead>\n",
       "    <tr style=\"text-align: right;\">\n",
       "      <th></th>\n",
       "      <th>modelo</th>\n",
       "      <th>ccp</th>\n",
       "      <th>score</th>\n",
       "    </tr>\n",
       "  </thead>\n",
       "  <tbody>\n",
       "    <tr>\n",
       "      <th>0</th>\n",
       "      <td>DecisionTreeClassifier()</td>\n",
       "      <td>0.000000</td>\n",
       "      <td>0.816649</td>\n",
       "    </tr>\n",
       "    <tr>\n",
       "      <th>1</th>\n",
       "      <td>DecisionTreeClassifier(ccp_alpha=0.00010749004...</td>\n",
       "      <td>0.000107</td>\n",
       "      <td>0.811752</td>\n",
       "    </tr>\n",
       "    <tr>\n",
       "      <th>2</th>\n",
       "      <td>DecisionTreeClassifier(ccp_alpha=0.00011872763...</td>\n",
       "      <td>0.000119</td>\n",
       "      <td>0.815560</td>\n",
       "    </tr>\n",
       "    <tr>\n",
       "      <th>3</th>\n",
       "      <td>DecisionTreeClassifier(ccp_alpha=0.00011917374...</td>\n",
       "      <td>0.000119</td>\n",
       "      <td>0.819369</td>\n",
       "    </tr>\n",
       "    <tr>\n",
       "      <th>4</th>\n",
       "      <td>DecisionTreeClassifier(ccp_alpha=0.00012092629...</td>\n",
       "      <td>0.000121</td>\n",
       "      <td>0.813384</td>\n",
       "    </tr>\n",
       "    <tr>\n",
       "      <th>...</th>\n",
       "      <td>...</td>\n",
       "      <td>...</td>\n",
       "      <td>...</td>\n",
       "    </tr>\n",
       "    <tr>\n",
       "      <th>387</th>\n",
       "      <td>DecisionTreeClassifier(ccp_alpha=0.04234435873...</td>\n",
       "      <td>0.042344</td>\n",
       "      <td>0.727421</td>\n",
       "    </tr>\n",
       "    <tr>\n",
       "      <th>388</th>\n",
       "      <td>DecisionTreeClassifier(ccp_alpha=0.05133468026...</td>\n",
       "      <td>0.051335</td>\n",
       "      <td>0.644178</td>\n",
       "    </tr>\n",
       "    <tr>\n",
       "      <th>389</th>\n",
       "      <td>DecisionTreeClassifier(ccp_alpha=0.10237862178...</td>\n",
       "      <td>0.102379</td>\n",
       "      <td>0.523395</td>\n",
       "    </tr>\n",
       "    <tr>\n",
       "      <th>390</th>\n",
       "      <td>DecisionTreeClassifier(ccp_alpha=0.15980638525...</td>\n",
       "      <td>0.159806</td>\n",
       "      <td>0.367247</td>\n",
       "    </tr>\n",
       "    <tr>\n",
       "      <th>391</th>\n",
       "      <td>DecisionTreeClassifier(ccp_alpha=0.17442685124...</td>\n",
       "      <td>0.174427</td>\n",
       "      <td>0.185528</td>\n",
       "    </tr>\n",
       "  </tbody>\n",
       "</table>\n",
       "<p>392 rows × 3 columns</p>\n",
       "</div>"
      ],
      "text/plain": [
       "                                                modelo       ccp     score\n",
       "0                             DecisionTreeClassifier()  0.000000  0.816649\n",
       "1    DecisionTreeClassifier(ccp_alpha=0.00010749004...  0.000107  0.811752\n",
       "2    DecisionTreeClassifier(ccp_alpha=0.00011872763...  0.000119  0.815560\n",
       "3    DecisionTreeClassifier(ccp_alpha=0.00011917374...  0.000119  0.819369\n",
       "4    DecisionTreeClassifier(ccp_alpha=0.00012092629...  0.000121  0.813384\n",
       "..                                                 ...       ...       ...\n",
       "387  DecisionTreeClassifier(ccp_alpha=0.04234435873...  0.042344  0.727421\n",
       "388  DecisionTreeClassifier(ccp_alpha=0.05133468026...  0.051335  0.644178\n",
       "389  DecisionTreeClassifier(ccp_alpha=0.10237862178...  0.102379  0.523395\n",
       "390  DecisionTreeClassifier(ccp_alpha=0.15980638525...  0.159806  0.367247\n",
       "391  DecisionTreeClassifier(ccp_alpha=0.17442685124...  0.174427  0.185528\n",
       "\n",
       "[392 rows x 3 columns]"
      ]
     },
     "execution_count": 7,
     "metadata": {},
     "output_type": "execute_result"
    }
   ],
   "source": [
    "%%time\n",
    "\n",
    "lista_modelo = []\n",
    "lista_scores = []\n",
    "\n",
    "\n",
    "for ccp in ccps:\n",
    "    \n",
    "    # Treino do modelo (com base de treino)\n",
    "    modelo = DecisionTreeClassifier(ccp_alpha=ccp).fit(x_treino, y_treino)\n",
    "    lista_modelo.append(modelo)\n",
    "    \n",
    "    # Cálculo da acurácia (na base de validação)\n",
    "    lista_scores.append( modelo.score(x_validacao, y_validacao) )\n",
    "\n",
    "    \n",
    "# Crio um dataframe para avaliar os resultados\n",
    "df_resultados = pd.DataFrame({\n",
    "    \n",
    "    'modelo': lista_modelo,\n",
    "    'ccp': ccps,\n",
    "    'score': lista_scores\n",
    "    \n",
    "})\n",
    "\n",
    "df_resultados"
   ]
  },
  {
   "cell_type": "markdown",
   "metadata": {},
   "source": [
    "**Avaliação dos resultados**"
   ]
  },
  {
   "cell_type": "markdown",
   "metadata": {},
   "source": [
    "Avalio os modelos que ficaram com a maior acurácia"
   ]
  },
  {
   "cell_type": "code",
   "execution_count": 8,
   "metadata": {},
   "outputs": [
    {
     "data": {
      "text/html": [
       "<div>\n",
       "<style scoped>\n",
       "    .dataframe tbody tr th:only-of-type {\n",
       "        vertical-align: middle;\n",
       "    }\n",
       "\n",
       "    .dataframe tbody tr th {\n",
       "        vertical-align: top;\n",
       "    }\n",
       "\n",
       "    .dataframe thead th {\n",
       "        text-align: right;\n",
       "    }\n",
       "</style>\n",
       "<table border=\"1\" class=\"dataframe\">\n",
       "  <thead>\n",
       "    <tr style=\"text-align: right;\">\n",
       "      <th></th>\n",
       "      <th>modelo</th>\n",
       "      <th>ccp</th>\n",
       "      <th>score</th>\n",
       "    </tr>\n",
       "  </thead>\n",
       "  <tbody>\n",
       "    <tr>\n",
       "      <th>214</th>\n",
       "      <td>DecisionTreeClassifier(ccp_alpha=0.00026371234...</td>\n",
       "      <td>0.000264</td>\n",
       "      <td>0.849837</td>\n",
       "    </tr>\n",
       "    <tr>\n",
       "      <th>223</th>\n",
       "      <td>DecisionTreeClassifier(ccp_alpha=0.00027208416...</td>\n",
       "      <td>0.000272</td>\n",
       "      <td>0.849293</td>\n",
       "    </tr>\n",
       "    <tr>\n",
       "      <th>225</th>\n",
       "      <td>DecisionTreeClassifier(ccp_alpha=0.00027208416...</td>\n",
       "      <td>0.000272</td>\n",
       "      <td>0.849293</td>\n",
       "    </tr>\n",
       "    <tr>\n",
       "      <th>231</th>\n",
       "      <td>DecisionTreeClassifier(ccp_alpha=0.00027208416...</td>\n",
       "      <td>0.000272</td>\n",
       "      <td>0.848749</td>\n",
       "    </tr>\n",
       "    <tr>\n",
       "      <th>216</th>\n",
       "      <td>DecisionTreeClassifier(ccp_alpha=0.00026510764...</td>\n",
       "      <td>0.000265</td>\n",
       "      <td>0.848749</td>\n",
       "    </tr>\n",
       "    <tr>\n",
       "      <th>...</th>\n",
       "      <td>...</td>\n",
       "      <td>...</td>\n",
       "      <td>...</td>\n",
       "    </tr>\n",
       "    <tr>\n",
       "      <th>387</th>\n",
       "      <td>DecisionTreeClassifier(ccp_alpha=0.04234435873...</td>\n",
       "      <td>0.042344</td>\n",
       "      <td>0.727421</td>\n",
       "    </tr>\n",
       "    <tr>\n",
       "      <th>388</th>\n",
       "      <td>DecisionTreeClassifier(ccp_alpha=0.05133468026...</td>\n",
       "      <td>0.051335</td>\n",
       "      <td>0.644178</td>\n",
       "    </tr>\n",
       "    <tr>\n",
       "      <th>389</th>\n",
       "      <td>DecisionTreeClassifier(ccp_alpha=0.10237862178...</td>\n",
       "      <td>0.102379</td>\n",
       "      <td>0.523395</td>\n",
       "    </tr>\n",
       "    <tr>\n",
       "      <th>390</th>\n",
       "      <td>DecisionTreeClassifier(ccp_alpha=0.15980638525...</td>\n",
       "      <td>0.159806</td>\n",
       "      <td>0.367247</td>\n",
       "    </tr>\n",
       "    <tr>\n",
       "      <th>391</th>\n",
       "      <td>DecisionTreeClassifier(ccp_alpha=0.17442685124...</td>\n",
       "      <td>0.174427</td>\n",
       "      <td>0.185528</td>\n",
       "    </tr>\n",
       "  </tbody>\n",
       "</table>\n",
       "<p>392 rows × 3 columns</p>\n",
       "</div>"
      ],
      "text/plain": [
       "                                                modelo       ccp     score\n",
       "214  DecisionTreeClassifier(ccp_alpha=0.00026371234...  0.000264  0.849837\n",
       "223  DecisionTreeClassifier(ccp_alpha=0.00027208416...  0.000272  0.849293\n",
       "225  DecisionTreeClassifier(ccp_alpha=0.00027208416...  0.000272  0.849293\n",
       "231  DecisionTreeClassifier(ccp_alpha=0.00027208416...  0.000272  0.848749\n",
       "216  DecisionTreeClassifier(ccp_alpha=0.00026510764...  0.000265  0.848749\n",
       "..                                                 ...       ...       ...\n",
       "387  DecisionTreeClassifier(ccp_alpha=0.04234435873...  0.042344  0.727421\n",
       "388  DecisionTreeClassifier(ccp_alpha=0.05133468026...  0.051335  0.644178\n",
       "389  DecisionTreeClassifier(ccp_alpha=0.10237862178...  0.102379  0.523395\n",
       "390  DecisionTreeClassifier(ccp_alpha=0.15980638525...  0.159806  0.367247\n",
       "391  DecisionTreeClassifier(ccp_alpha=0.17442685124...  0.174427  0.185528\n",
       "\n",
       "[392 rows x 3 columns]"
      ]
     },
     "execution_count": 8,
     "metadata": {},
     "output_type": "execute_result"
    }
   ],
   "source": [
    "df_resultados.sort_values(by = 'score', ascending=False)"
   ]
  },
  {
   "cell_type": "markdown",
   "metadata": {},
   "source": [
    "Pego o modelo que tem a maior acurácia"
   ]
  },
  {
   "cell_type": "code",
   "execution_count": 9,
   "metadata": {},
   "outputs": [],
   "source": [
    "melhor_modelo = df_resultados.loc[ df_resultados['score'].idxmax(), 'modelo']"
   ]
  },
  {
   "cell_type": "markdown",
   "metadata": {},
   "source": [
    "### 5. Avaliação do modelo\n",
    "\n",
    "Avalie a árvore encontrada no item anterior na base de testes."
   ]
  },
  {
   "cell_type": "markdown",
   "metadata": {},
   "source": [
    "Foi possível obter uma acurácia de 65% nos dados de teste"
   ]
  },
  {
   "cell_type": "code",
   "execution_count": 10,
   "metadata": {},
   "outputs": [
    {
     "name": "stdout",
     "output_type": "stream",
     "text": [
      "Acurácia treino    = 0.9406856520950481\n",
      "Acurácia validação = 0.8498367791077258\n",
      "Acurácia teste     = 0.6541072640868975\n"
     ]
    }
   ],
   "source": [
    "# Testo a acurácia do modelo em todas as bases\n",
    "\n",
    "print(f'Acurácia treino    = {melhor_modelo.score(x_treino, y_treino)}')\n",
    "print(f'Acurácia validação = {melhor_modelo.score(x_validacao, y_validacao)}')\n",
    "print(f'Acurácia teste     = {melhor_modelo.score(x_teste, y_teste)}')"
   ]
  }
 ],
 "metadata": {
  "kernelspec": {
   "display_name": "Python 3 (ipykernel)",
   "language": "python",
   "name": "python3"
  },
  "language_info": {
   "codemirror_mode": {
    "name": "ipython",
    "version": 3
   },
   "file_extension": ".py",
   "mimetype": "text/x-python",
   "name": "python",
   "nbconvert_exporter": "python",
   "pygments_lexer": "ipython3",
   "version": "3.10.9"
  }
 },
 "nbformat": 4,
 "nbformat_minor": 4
}
