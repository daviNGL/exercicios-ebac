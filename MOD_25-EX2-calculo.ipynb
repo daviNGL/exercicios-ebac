{
 "cells": [
  {
   "cell_type": "markdown",
   "metadata": {},
   "source": [
    "# Cálculo - Tarefa 02\n",
    "\n",
    "1- Calcule de forma numérica a integral da função $x^3$ avaliada entre os pontos $1$ e $2$. Identifique o número de retângulos que você usou.  \n",
    "2- Calcule essa área de forma analítica."
   ]
  },
  {
   "cell_type": "code",
   "execution_count": 9,
   "metadata": {},
   "outputs": [],
   "source": [
    "import pandas as pd\n",
    "import numpy as np\n",
    "import matplotlib.pyplot as plt\n",
    "\n",
    "from matplotlib.animation import FuncAnimation, PillowWriter \n",
    "from IPython.display import HTML\n",
    "import warnings\n",
    "\n",
    "%matplotlib inline"
   ]
  },
  {
   "cell_type": "code",
   "execution_count": 33,
   "metadata": {},
   "outputs": [
    {
     "data": {
      "image/png": "[encoded data removed]",
      "text/plain": [
       "<Figure size 640x480 with 2 Axes>"
      ]
     },
     "metadata": {},
     "output_type": "display_data"
    }
   ],
   "source": [
    "warnings.filterwarnings(\"ignore\")\n",
    "\n",
    "# seno de x\n",
    "f = lambda x: x**3\n",
    "\n",
    "def calcula_area(a, b, func, frame_num):\n",
    "    num_bins=frame_num+1 # Quantidade de retângulos\n",
    "    delta = (b-a)/num_bins # largura do retângulo\n",
    "    x_cols = np.linspace(a, b-delta, num_bins)+delta/2 # Divisão do eixo X\n",
    "    y_cols = f(x_cols) # alturas dos retângulos\n",
    "    return sum(delta*y_cols)\n",
    "    \n",
    "\n",
    "def animate(n, a=0, b=np.pi, func=f, verdadeiro_valor = 2):\n",
    "    \n",
    "    plt.cla()  # Limpa o gráfico anterior para montar o próxim frame\n",
    "    ax = plt.axes(xlim=(a, b), ylim = (0, 10))  # Monta o sistema de eixos\n",
    "    \n",
    "    # Plota a função\n",
    "    x = np.linspace(a ,b, 100)\n",
    "    y = f(x)\n",
    "    ax.plot(x, y, '-');\n",
    "    \n",
    "    # Define as quebras e as alturas das colunas\n",
    "    num_bins=n+1\n",
    "    delta = (b-a)/num_bins\n",
    "    #x_cols = np.linspace(a, b-delta, num_bins)+delta/2\n",
    "    x_cols = np.linspace(a + delta/2, b - delta/2, num_bins) # Divisão do eixo X \n",
    "    y_cols = f(x_cols)\n",
    "\n",
    "    # plota barras\n",
    "    bar = ax.bar(x_cols, y_cols, alpha=.5, width = delta, edgecolor='blue')   \n",
    "\n",
    "    # Área dos retângulos\n",
    "    soma_riemann = calcula_area(a, b, func, n)\n",
    "    \n",
    "    # Erro\n",
    "    erro = verdadeiro_valor - soma_riemann\n",
    "    ax.set_title(f'Soma de Riemann = {soma_riemann:.2f} erro = {erro:.4f}')\n",
    "\n",
    "    return bar\n",
    "\n",
    "\n",
    "animate(50, 1, 2);"
   ]
  },
  {
   "cell_type": "markdown",
   "metadata": {},
   "source": [
    "Utilizando 50 retangulos, consegui chegar em uma área de 3.75, que corresponde a área calculada matemáticamente através da fórmula no item 2."
   ]
  },
  {
   "cell_type": "code",
   "execution_count": null,
   "metadata": {},
   "outputs": [],
   "source": []
  },
  {
   "cell_type": "code",
   "execution_count": null,
   "metadata": {},
   "outputs": [],
   "source": []
  },
  {
   "cell_type": "markdown",
   "metadata": {},
   "source": [
    "# 2- Calcule essa área de forma analítica."
   ]
  },
  {
   "cell_type": "markdown",
   "metadata": {},
   "source": [
    "Primeiro, descobrimos a antiderivada $f'(x)$ de $x^3$"
   ]
  },
  {
   "cell_type": "markdown",
   "metadata": {},
   "source": [
    "$f'(x) = f(x)$\n",
    "\n",
    "$f'(x) = x^3$\n",
    "\n",
    "$( \\frac{1}{4} x^4$ + C )' = $x^3$"
   ]
  },
  {
   "cell_type": "markdown",
   "metadata": {},
   "source": [
    "Agora, denotamos a área como a integral entre os pontos a e b, abaixo da função x:"
   ]
  },
  {
   "cell_type": "markdown",
   "metadata": {},
   "source": [
    "$\\int_{a}^{b} f(x) d(x) = F(b) - F(a)$\n",
    "\n",
    "$\\int_{1}^{2} x^3 d(x) = \\frac{1}{4} x^4 |_2 - \\frac{1}{4} x^4 |_1 $\n",
    "\n",
    "$\\int_{1}^{2} x^3 d(x) = \\frac{1}{4} 2^4  - \\frac{1}{4} 1^4  $\n",
    "\n",
    "$\\int_{1}^{2} x^3 d(x) = \\frac{1}{4} 16  - \\frac{1}{4} 1  $\n",
    "\n",
    "$\\int_{1}^{2} x^3 d(x) = \\frac{1}{4} 16  - \\frac{1}{4} 1  $\n",
    "\n",
    "$\\int_{1}^{2} x^3 d(x) = \\frac{16}{4} - \\frac{1}{4} $\n",
    "\n",
    "$\\int_{1}^{2} x^3 d(x) = \\frac{15}{4} = 3,75 $"
   ]
  }
 ],
 "metadata": {
  "kernelspec": {
   "display_name": "Python 3 (ipykernel)",
   "language": "python",
   "name": "python3"
  },
  "language_info": {
   "codemirror_mode": {
    "name": "ipython",
    "version": 3
   },
   "file_extension": ".py",
   "mimetype": "text/x-python",
   "name": "python",
   "nbconvert_exporter": "python",
   "pygments_lexer": "ipython3",
   "version": "3.10.9"
  },
  "toc": {
   "base_numbering": 1,
   "nav_menu": {},
   "number_sections": true,
   "sideBar": true,
   "skip_h1_title": true,
   "title_cell": "Índice",
   "title_sidebar": "Conteúdo",
   "toc_cell": false,
   "toc_position": {},
   "toc_section_display": true,
   "toc_window_display": false
  },
  "varInspector": {
   "cols": {
    "lenName": 16,
    "lenType": 16,
    "lenVar": 40
   },
   "kernels_config": {
    "python": {
     "delete_cmd_postfix": "",
     "delete_cmd_prefix": "del ",
     "library": "var_list.py",
     "varRefreshCmd": "print(var_dic_list())"
    },
    "r": {
     "delete_cmd_postfix": ") ",
     "delete_cmd_prefix": "rm(",
     "library": "var_list.r",
     "varRefreshCmd": "cat(var_dic_list()) "
    }
   },
   "types_to_exclude": [
    "module",
    "function",
    "builtin_function_or_method",
    "instance",
    "_Feature"
   ],
   "window_display": false
  }
 },
 "nbformat": 4,
 "nbformat_minor": 4
}
