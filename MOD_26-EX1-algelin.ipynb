{
 "cells": [
  {
   "cell_type": "markdown",
   "metadata": {},
   "source": [
    "# Tarefa - Álgebra Linear\n",
    "\n",
    "A célula abaixo gera dados de notas de duas provas, p1 e p2, conforme em aula, mas com mais alunos.\n",
    "\n",
    "## 1. Reduzindo correlações\n",
    "\n",
    "a) Já vimos que expressar os dados através da média e diferença é uma transformação linear. Obtenha a média e a diferença através de uma multiplicação matricial, conforme visto em aula.\n",
    "\n",
    "b) Calcule a correlação entre os dados da **p1** e **p2**\n",
    "\n",
    "c) Calcule a correlação entre os dados transformados (média e diferença)\n",
    "\n",
    "d) Comente as correlações observadas."
   ]
  },
  {
   "cell_type": "code",
   "execution_count": 1,
   "metadata": {},
   "outputs": [],
   "source": [
    "import pandas as pd\n",
    "import seaborn as sns\n",
    "import numpy as np\n",
    "import matplotlib.pyplot as plt\n",
    "\n",
    "%matplotlib inline\n",
    "\n",
    "# Gerando os dados\n",
    "np.random.seed(123)\n",
    "\n",
    "p1 = np.random.random(50) *10\n",
    "p1[p1>10] = 10\n",
    "p1[p1<0] = 0\n",
    "\n",
    "p2 = p1 + np.random.normal(0,1,50)\n",
    "p2[p2>10] = 10\n",
    "p2[p2<0] = 0\n",
    "\n",
    "df = pd.DataFrame({'p1': p1, 'p2': p2})"
   ]
  },
  {
   "cell_type": "code",
   "execution_count": 3,
   "metadata": {},
   "outputs": [
    {
     "data": {
      "text/html": [
       "<div>\n",
       "<style scoped>\n",
       "    .dataframe tbody tr th:only-of-type {\n",
       "        vertical-align: middle;\n",
       "    }\n",
       "\n",
       "    .dataframe tbody tr th {\n",
       "        vertical-align: top;\n",
       "    }\n",
       "\n",
       "    .dataframe thead th {\n",
       "        text-align: right;\n",
       "    }\n",
       "</style>\n",
       "<table border=\"1\" class=\"dataframe\">\n",
       "  <thead>\n",
       "    <tr style=\"text-align: right;\">\n",
       "      <th></th>\n",
       "      <th>p1</th>\n",
       "      <th>p2</th>\n",
       "    </tr>\n",
       "  </thead>\n",
       "  <tbody>\n",
       "    <tr>\n",
       "      <th>0</th>\n",
       "      <td>6.964692</td>\n",
       "      <td>7.943428</td>\n",
       "    </tr>\n",
       "    <tr>\n",
       "      <th>1</th>\n",
       "      <td>2.861393</td>\n",
       "      <td>5.099537</td>\n",
       "    </tr>\n",
       "    <tr>\n",
       "      <th>2</th>\n",
       "      <td>2.268515</td>\n",
       "      <td>0.974429</td>\n",
       "    </tr>\n",
       "    <tr>\n",
       "      <th>3</th>\n",
       "      <td>5.513148</td>\n",
       "      <td>4.474359</td>\n",
       "    </tr>\n",
       "    <tr>\n",
       "      <th>4</th>\n",
       "      <td>7.194690</td>\n",
       "      <td>8.938402</td>\n",
       "    </tr>\n",
       "  </tbody>\n",
       "</table>\n",
       "</div>"
      ],
      "text/plain": [
       "         p1        p2\n",
       "0  6.964692  7.943428\n",
       "1  2.861393  5.099537\n",
       "2  2.268515  0.974429\n",
       "3  5.513148  4.474359\n",
       "4  7.194690  8.938402"
      ]
     },
     "execution_count": 3,
     "metadata": {},
     "output_type": "execute_result"
    }
   ],
   "source": [
    "df.head()"
   ]
  },
  {
   "cell_type": "markdown",
   "metadata": {},
   "source": [
    "Definição da matriz de transformação"
   ]
  },
  {
   "cell_type": "code",
   "execution_count": 28,
   "metadata": {},
   "outputs": [],
   "source": [
    "#obs: a primeira linha da matriz serve para cálculo das médias, enquanto a segunda para cálculo das diferenças\n",
    "\n",
    "matriz_media = np.array([ [ 0.5, 0.5],\n",
    "                          [-1.0, 1.0] ])"
   ]
  },
  {
   "cell_type": "markdown",
   "metadata": {},
   "source": [
    "**Cálculo da média e diferença através de multiplicação matricial**"
   ]
  },
  {
   "cell_type": "code",
   "execution_count": 33,
   "metadata": {},
   "outputs": [
    {
     "data": {
      "text/html": [
       "<div>\n",
       "<style scoped>\n",
       "    .dataframe tbody tr th:only-of-type {\n",
       "        vertical-align: middle;\n",
       "    }\n",
       "\n",
       "    .dataframe tbody tr th {\n",
       "        vertical-align: top;\n",
       "    }\n",
       "\n",
       "    .dataframe thead th {\n",
       "        text-align: right;\n",
       "    }\n",
       "</style>\n",
       "<table border=\"1\" class=\"dataframe\">\n",
       "  <thead>\n",
       "    <tr style=\"text-align: right;\">\n",
       "      <th></th>\n",
       "      <th>p1</th>\n",
       "      <th>p2</th>\n",
       "      <th>media</th>\n",
       "      <th>diferenca</th>\n",
       "    </tr>\n",
       "  </thead>\n",
       "  <tbody>\n",
       "    <tr>\n",
       "      <th>0</th>\n",
       "      <td>6.964692</td>\n",
       "      <td>7.943428</td>\n",
       "      <td>7.454060</td>\n",
       "      <td>0.978736</td>\n",
       "    </tr>\n",
       "    <tr>\n",
       "      <th>1</th>\n",
       "      <td>2.861393</td>\n",
       "      <td>5.099537</td>\n",
       "      <td>3.980465</td>\n",
       "      <td>2.238143</td>\n",
       "    </tr>\n",
       "    <tr>\n",
       "      <th>2</th>\n",
       "      <td>2.268515</td>\n",
       "      <td>0.974429</td>\n",
       "      <td>1.621472</td>\n",
       "      <td>-1.294085</td>\n",
       "    </tr>\n",
       "    <tr>\n",
       "      <th>3</th>\n",
       "      <td>5.513148</td>\n",
       "      <td>4.474359</td>\n",
       "      <td>4.993754</td>\n",
       "      <td>-1.038788</td>\n",
       "    </tr>\n",
       "    <tr>\n",
       "      <th>4</th>\n",
       "      <td>7.194690</td>\n",
       "      <td>8.938402</td>\n",
       "      <td>8.066546</td>\n",
       "      <td>1.743712</td>\n",
       "    </tr>\n",
       "  </tbody>\n",
       "</table>\n",
       "</div>"
      ],
      "text/plain": [
       "         p1        p2     media  diferenca\n",
       "0  6.964692  7.943428  7.454060   0.978736\n",
       "1  2.861393  5.099537  3.980465   2.238143\n",
       "2  2.268515  0.974429  1.621472  -1.294085\n",
       "3  5.513148  4.474359  4.993754  -1.038788\n",
       "4  7.194690  8.938402  8.066546   1.743712"
      ]
     },
     "execution_count": 33,
     "metadata": {},
     "output_type": "execute_result"
    }
   ],
   "source": [
    "matriz_notas = df[['p1', 'p2']].to_numpy().transpose()\n",
    "\n",
    "mat_media_dif = np.matmul(matriz_media, matriz_notas)\n",
    "\n",
    "df['media']     = mat_media_dif[0]\n",
    "df['diferenca'] = mat_media_dif[1]\n",
    "\n",
    "df.head()"
   ]
  },
  {
   "cell_type": "markdown",
   "metadata": {},
   "source": [
    "**Correlação entre os dados p1 e p2**"
   ]
  },
  {
   "cell_type": "code",
   "execution_count": 35,
   "metadata": {},
   "outputs": [
    {
     "data": {
      "text/plain": [
       "0.8957365818728046"
      ]
     },
     "execution_count": 35,
     "metadata": {},
     "output_type": "execute_result"
    }
   ],
   "source": [
    "df['p1'].corr(df['p2'])"
   ]
  },
  {
   "cell_type": "markdown",
   "metadata": {},
   "source": [
    "**Correlação entre a média e a diferença**"
   ]
  },
  {
   "cell_type": "code",
   "execution_count": 36,
   "metadata": {},
   "outputs": [
    {
     "data": {
      "text/plain": [
       "0.13347385411788837"
      ]
     },
     "execution_count": 36,
     "metadata": {},
     "output_type": "execute_result"
    }
   ],
   "source": [
    "df['media'].corr(df['diferenca'])"
   ]
  },
  {
   "cell_type": "markdown",
   "metadata": {},
   "source": [
    "**Conclusões:**\n",
    "\n",
    "1. Pode-se observar que a correlação entre as notas **P1** e **P2** são muito altas, alunos que tiram uma nota alta na **P1** também costumam tirar na **P2**.\n",
    "    <br>\n",
    "2. O inverso também é verdade, alunos que tiram uma nota menor em uma das provas, também costumam tirar nota baixa na outra.\n",
    "    <br>\n",
    "3. Por outro lado, a correlação entre a **média** e a **diferença** é muito baixa, o que faz sentido, visto que: \n",
    "\n",
    "    - Se a correlação entre **P1** e **P2** é alta, significa que ambas crescem ou diminuem com certa igualdade.\n",
    "    - A **média** cresce conforme ambas as notas crescem igualmente, enquanto a **diferença** cresce conforme as notas se distanciam.\n",
    "    - **P1** e **P2** tem um crescimento conjunto, enquanto a **média** também cresce junto delas. Mas a **diferença** cresce conforme uma nota cresce mais do que a outra. Portanto, não faria sentido a **diferença** e a **média** terem uma boa correlação."
   ]
  },
  {
   "cell_type": "code",
   "execution_count": null,
   "metadata": {},
   "outputs": [],
   "source": []
  },
  {
   "cell_type": "markdown",
   "metadata": {},
   "source": [
    "## 2. Soma e diferença\n",
    "\n",
    "Realize agora uma transformação semelhante, mas que ao invés da média, dê a soma da **p1** e **p2**. Construa o gráfico e conclua que diferenças visuais você observa."
   ]
  },
  {
   "cell_type": "markdown",
   "metadata": {},
   "source": [
    "Definição da matriz de transformação"
   ]
  },
  {
   "cell_type": "code",
   "execution_count": 39,
   "metadata": {},
   "outputs": [
    {
     "data": {
      "text/plain": [
       "0    14.908120\n",
       "1     7.960930\n",
       "2     3.242944\n",
       "3     9.987507\n",
       "4    16.133092\n",
       "dtype: float64"
      ]
     },
     "execution_count": 39,
     "metadata": {},
     "output_type": "execute_result"
    }
   ],
   "source": [
    "mat = np.array([1, 1])\n",
    "\n",
    "df['p1'].head() + df['p2'].head()"
   ]
  },
  {
   "cell_type": "markdown",
   "metadata": {},
   "source": [
    "Cálculo da soma de **p1** e **p2** através da multiplicação de matrizes"
   ]
  },
  {
   "cell_type": "code",
   "execution_count": 55,
   "metadata": {},
   "outputs": [],
   "source": [
    "matriz_notas = df[['p1', 'p2']].to_numpy().transpose()\n",
    "\n",
    "matriz_soma_notas = np.matmul(mat, matriz_notas)\n",
    "\n",
    "df['soma_notas'] = matriz_soma_notas"
   ]
  },
  {
   "cell_type": "markdown",
   "metadata": {},
   "source": [
    "**Exibição do gráfico**"
   ]
  },
  {
   "cell_type": "markdown",
   "metadata": {},
   "source": [
    "Pode-se oberservar que assim como a média, a soma não apresenta uma correlação com a diferença. O que faz sentido, visto que são operações opostas."
   ]
  },
  {
   "cell_type": "code",
   "execution_count": 68,
   "metadata": {},
   "outputs": [
    {
     "data": {
      "text/plain": [
       "<matplotlib.legend.Legend at 0x1f61d7de080>"
      ]
     },
     "execution_count": 68,
     "metadata": {},
     "output_type": "execute_result"
    },
    {
     "data": {
      "image/png": "[encoded data removed]",
      "text/plain": [
       "<Figure size 1000x1000 with 1 Axes>"
      ]
     },
     "metadata": {},
     "output_type": "display_data"
    }
   ],
   "source": [
    "fig = plt.figure(figsize=(10, 10))\n",
    "ax = fig.add_subplot(1,1,1)\n",
    "\n",
    "ax.set_aspect('equal', 'box')\n",
    "ax.set(xlim=(-5, 20), ylim=(-5, 20))\n",
    "\n",
    "ax.axhline(0, linestyle=':', linewidth=0.5)\n",
    "ax.axvline(0, linestyle=':', linewidth=0.5)\n",
    "\n",
    "ax.arrow(0, 0, 1, 1\n",
    "         , head_width=0.25\n",
    "         , head_length=0.1\n",
    "         , fc='g', ec='g', \n",
    "         length_includes_head=True)\n",
    "\n",
    "# P1 x P2\n",
    "plt.scatter(df['p1'], df['p2'], label='originais (p1 x p2)')\n",
    "\n",
    "# Soma X Diferenca\n",
    "plt.scatter(df['soma_notas'], df['diferenca'], label='transformados (soma x diferenca)')\n",
    "\n",
    "# Media X Diferenca\n",
    "plt.scatter(df['media'], df['diferenca'], label='transformados (media x diferenca)')\n",
    "\n",
    "plt.legend()"
   ]
  }
 ],
 "metadata": {
  "kernelspec": {
   "display_name": "Python 3 (ipykernel)",
   "language": "python",
   "name": "python3"
  },
  "language_info": {
   "codemirror_mode": {
    "name": "ipython",
    "version": 3
   },
   "file_extension": ".py",
   "mimetype": "text/x-python",
   "name": "python",
   "nbconvert_exporter": "python",
   "pygments_lexer": "ipython3",
   "version": "3.10.9"
  },
  "toc": {
   "base_numbering": 1,
   "nav_menu": {},
   "number_sections": false,
   "sideBar": true,
   "skip_h1_title": false,
   "title_cell": "Índice",
   "title_sidebar": "Conteúdo",
   "toc_cell": false,
   "toc_position": {
    "height": "calc(100% - 180px)",
    "left": "10px",
    "top": "150px",
    "width": "257.6px"
   },
   "toc_section_display": true,
   "toc_window_display": false
  },
  "varInspector": {
   "cols": {
    "lenName": 16,
    "lenType": 16,
    "lenVar": 40
   },
   "kernels_config": {
    "python": {
     "delete_cmd_postfix": "",
     "delete_cmd_prefix": "del ",
     "library": "var_list.py",
     "varRefreshCmd": "print(var_dic_list())"
    },
    "r": {
     "delete_cmd_postfix": ") ",
     "delete_cmd_prefix": "rm(",
     "library": "var_list.r",
     "varRefreshCmd": "cat(var_dic_list()) "
    }
   },
   "types_to_exclude": [
    "module",
    "function",
    "builtin_function_or_method",
    "instance",
    "_Feature"
   ],
   "window_display": false
  }
 },
 "nbformat": 4,
 "nbformat_minor": 4
}
