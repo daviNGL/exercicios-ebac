{
 "cells": [
  {
   "cell_type": "markdown",
   "metadata": {},
   "source": [
    "![Cabec%CC%A7alho_notebook.png](cabecalho_notebook.png)"
   ]
  },
  {
   "cell_type": "markdown",
   "metadata": {},
   "source": [
    "# PCA - Tarefa 01: *HAR* com PCA\n",
    "\n",
    "Vamos trabalhar com a base da demonstração feita em aula, mas vamos explorar um pouco melhor como é o desempenho da árvore variando o número de componentes principais."
   ]
  },
  {
   "cell_type": "code",
   "execution_count": 2,
   "metadata": {},
   "outputs": [
    {
     "name": "stderr",
     "output_type": "stream",
     "text": [
      "C:\\Users\\davi_\\AppData\\Local\\Temp\\ipykernel_14424\\1374599716.py:22: FutureWarning: The squeeze argument has been deprecated and will be removed in a future version. Append .squeeze(\"columns\") to the call to squeeze.\n",
      "\n",
      "\n",
      "  features = pd.read_csv(filename_features, header=None, names=['nome_var'], squeeze=True, sep=\"#\")\n",
      "C:\\Users\\davi_\\AppData\\Local\\Temp\\ipykernel_14424\\1374599716.py:25: FutureWarning: The squeeze argument has been deprecated and will be removed in a future version. Append .squeeze(\"columns\") to the call to squeeze.\n",
      "\n",
      "\n",
      "  subject_train = pd.read_csv(filename_subtrain, header=None, names=['subject_id'], squeeze=True)\n",
      "C:\\Users\\davi_\\AppData\\Local\\Temp\\ipykernel_14424\\1374599716.py:29: FutureWarning: The squeeze argument has been deprecated and will be removed in a future version. Append .squeeze(\"columns\") to the call to squeeze.\n",
      "\n",
      "\n",
      "  subject_test = pd.read_csv(filename_subtest, header=None, names=['subject_id'], squeeze=True)\n"
     ]
    }
   ],
   "source": [
    "import pandas as pd\n",
    "\n",
    "from sklearn.tree import DecisionTreeClassifier\n",
    "\n",
    "from sklearn.decomposition import PCA\n",
    "from sklearn.metrics import accuracy_score\n",
    "from sklearn.model_selection import cross_val_score\n",
    "from sklearn.model_selection import GridSearchCV\n",
    "from sklearn.model_selection import train_test_split\n",
    "\n",
    "filename_features = \"./dados/features.txt\"\n",
    "filename_labels = \"./dados/activity_labels.txt\"\n",
    "\n",
    "filename_subtrain = \"./dados/subject_train.txt\"\n",
    "filename_xtrain = \"./dados/X_train.txt\"\n",
    "filename_ytrain = \"./dados/y_train.txt\"\n",
    "\n",
    "filename_subtest = \"./dados/subject_test.txt\"\n",
    "ffilename_xtest = \"./dados/X_test.txt\"\n",
    "filename_ytest = \"./dados/y_test.txt\"\n",
    "\n",
    "features = pd.read_csv(filename_features, header=None, names=['nome_var'], squeeze=True, sep=\"#\")\n",
    "labels = pd.read_csv(filename_labels, delim_whitespace=True, header=None, names=['cod_label', 'label'])\n",
    "\n",
    "subject_train = pd.read_csv(filename_subtrain, header=None, names=['subject_id'], squeeze=True)\n",
    "X_train = pd.read_csv(filename_xtrain, delim_whitespace=True, header=None, names=features.tolist())\n",
    "y_train = pd.read_csv(filename_ytrain, header=None, names=['cod_label'])\n",
    "\n",
    "subject_test = pd.read_csv(filename_subtest, header=None, names=['subject_id'], squeeze=True)\n",
    "X_test = pd.read_csv(ffilename_xtest, delim_whitespace=True, header=None, names=features.tolist())\n",
    "y_test = pd.read_csv(filename_ytest, header=None, names=['cod_label'])"
   ]
  },
  {
   "cell_type": "markdown",
   "metadata": {},
   "source": [
    "## Árvore de decisão\n",
    "\n",
    "Rode uma árvore de decisão com todas as variáveis, utilizando o ```ccp_alpha=0.001```. Avalie a acurácia nas bases de treinamento e teste. Avalie o tempo de processamento."
   ]
  },
  {
   "cell_type": "markdown",
   "metadata": {},
   "source": [
    "- Pode-se observar uma boa acurácia para as bases de treino e teste, porém um tempo de processamento consideravelmente grande para o treinamento de apenas um modelo. \n",
    "\n",
    "- Quase 4 segundos para treinar apenas um modelo de classificação, o que provavemente se dá em conta do grande número de linhas e colunas na base de treino."
   ]
  },
  {
   "cell_type": "code",
   "execution_count": 9,
   "metadata": {},
   "outputs": [
    {
     "name": "stdout",
     "output_type": "stream",
     "text": [
      "Acurácia treino = 0.9757889009793254\n",
      "Acurácia teste  = 0.8795385137427892\n",
      "CPU times: total: 3.17 s\n",
      "Wall time: 3.43 s\n"
     ]
    }
   ],
   "source": [
    "%%time\n",
    "\n",
    "clf = DecisionTreeClassifier(ccp_alpha=0.001).fit(X_train, y_train)\n",
    "\n",
    "\n",
    "print(f'Acurácia treino = {accuracy_score(y_train, clf.predict(X_train))}')\n",
    "print(f'Acurácia teste  = {accuracy_score(y_test, clf.predict(X_test))}')"
   ]
  },
  {
   "cell_type": "markdown",
   "metadata": {},
   "source": [
    "## Árvore com PCA\n",
    "\n",
    "Faça uma análise de componemtes principais das variáveis originais. Utilize apenas uma componente. Faça uma árvore de decisão com esta componente como variável explicativa.\n",
    "\n",
    "- Avalie a acurácia nas bases de treinamento e teste\n",
    "- Avalie o tempo de processamento"
   ]
  },
  {
   "cell_type": "markdown",
   "metadata": {},
   "source": [
    "- Ao aplicar o PCA e reduzir a base para apenas uma componente, foi possível reduzir absurdamente o tempo de processamento para treinar o modelo. Porém a acurácia também caiu bastante (tanto com a base de treino quanto com a de teste).\n",
    "\n",
    "- O que deve se dar ao fato de ter reduzido demais as variáveis do modelo."
   ]
  },
  {
   "cell_type": "code",
   "execution_count": 14,
   "metadata": {},
   "outputs": [
    {
     "name": "stdout",
     "output_type": "stream",
     "text": [
      "Acurácia treino = 0.499727965179543\n",
      "Acurácia teste  = 0.45707499151679676\n",
      "CPU times: total: 469 ms\n",
      "Wall time: 117 ms\n"
     ]
    }
   ],
   "source": [
    "%%time\n",
    "\n",
    "# Aplico o PCA\n",
    "prcomp = PCA(n_components=1).fit(X_train)\n",
    "\n",
    "# Gero a componente mais importante pras bases\n",
    "pc_treino = prcomp.transform(X_train)\n",
    "pc_teste  = prcomp.transform(X_test)\n",
    "\n",
    "# Crio o modelo\n",
    "clf = DecisionTreeClassifier(ccp_alpha=0.001).fit(pc_treino, y_train)\n",
    "\n",
    "# Avaliação das acurácias\n",
    "print(f'Acurácia treino = {accuracy_score(y_train, clf.predict(pc_treino))}')\n",
    "print(f'Acurácia teste  = {accuracy_score(y_test, clf.predict(pc_teste))}')"
   ]
  },
  {
   "cell_type": "markdown",
   "metadata": {},
   "source": [
    "## Testando o número de componentes\n",
    "\n",
    "Com base no código acima, teste a árvore de classificação com pelo menos as seguintes possibilidades de quantidades de componentes: ```[1, 2, 5, 10, 50]```. Avalie para cada uma delas:\n",
    "\n",
    "- Acurácia nas bases de treino e teste\n",
    "- Tempo de processamento\n"
   ]
  },
  {
   "cell_type": "markdown",
   "metadata": {},
   "source": [
    "Definição da função pra aplicar o PCA"
   ]
  },
  {
   "cell_type": "code",
   "execution_count": 35,
   "metadata": {},
   "outputs": [],
   "source": [
    "def aplicar_PCA(xtreino: pd.DataFrame, # variáveis explicativas treino\n",
    "                xteste: pd.DataFrame,  # variáveis explicativas teste\n",
    "                ytreino: pd.Series,    # variável resposta treino\n",
    "                yteste: pd.Series,     # variável resposta teste\n",
    "                num_componentes: int) -> None:\n",
    "    \n",
    "    \n",
    "    # aplico o PCA com o número de componentes dolicitados\n",
    "    prcomp = PCA(n_components = num_componentes).fit(xtreino)\n",
    "    \n",
    "    \n",
    "    # gero as variáveis\n",
    "    pc_treino = prcomp.transform(xtreino)\n",
    "    pc_teste  = prcomp.transform(xteste)\n",
    "    \n",
    "    \n",
    "    # treino o modelo com as variaveis geradas\n",
    "    clf = DecisionTreeClassifier(ccp_alpha = 0.001).fit(pc_treino, ytreino)\n",
    "    \n",
    "    # print acurácias\n",
    "    #print(f\"Resultados com {num_componentes} componentes\")\n",
    "    print(f\"Acurácia treino = { round(clf.score(pc_treino, ytreino), 4) }\")\n",
    "    print(f\"Acurácia teste  = { round(clf.score(pc_teste, yteste), 4) }\")\n",
    "    \n",
    "    \n",
    "    return None"
   ]
  },
  {
   "cell_type": "markdown",
   "metadata": {},
   "source": [
    "PCA com 2 componentes"
   ]
  },
  {
   "cell_type": "code",
   "execution_count": 36,
   "metadata": {},
   "outputs": [
    {
     "name": "stdout",
     "output_type": "stream",
     "text": [
      "Acurácia treino = 0.6128\n",
      "Acurácia teste  = 0.5847\n",
      "CPU times: total: 406 ms\n",
      "Wall time: 114 ms\n"
     ]
    }
   ],
   "source": [
    "%%time\n",
    "\n",
    "aplicar_PCA(X_train, X_test, y_train, y_test, num_componentes=2)"
   ]
  },
  {
   "cell_type": "markdown",
   "metadata": {},
   "source": [
    "PCA com 5 componentes"
   ]
  },
  {
   "cell_type": "code",
   "execution_count": 37,
   "metadata": {},
   "outputs": [
    {
     "name": "stdout",
     "output_type": "stream",
     "text": [
      "Acurácia treino = 0.846\n",
      "Acurácia teste  = 0.7886\n",
      "CPU times: total: 531 ms\n",
      "Wall time: 139 ms\n"
     ]
    }
   ],
   "source": [
    "%%time\n",
    "\n",
    "aplicar_PCA(X_train, X_test, y_train, y_test, num_componentes=5)"
   ]
  },
  {
   "cell_type": "markdown",
   "metadata": {},
   "source": [
    "PCA com 10 componentes"
   ]
  },
  {
   "cell_type": "code",
   "execution_count": 38,
   "metadata": {},
   "outputs": [
    {
     "name": "stdout",
     "output_type": "stream",
     "text": [
      "Acurácia treino = 0.8924\n",
      "Acurácia teste  = 0.8239\n",
      "CPU times: total: 766 ms\n",
      "Wall time: 178 ms\n"
     ]
    }
   ],
   "source": [
    "%%time\n",
    "\n",
    "aplicar_PCA(X_train, X_test, y_train, y_test, num_componentes=10)"
   ]
  },
  {
   "cell_type": "markdown",
   "metadata": {},
   "source": [
    "PCA com 50 componentes"
   ]
  },
  {
   "cell_type": "code",
   "execution_count": 39,
   "metadata": {},
   "outputs": [
    {
     "name": "stdout",
     "output_type": "stream",
     "text": [
      "Acurácia treino = 0.9168\n",
      "Acurácia teste  = 0.829\n",
      "CPU times: total: 1.75 s\n",
      "Wall time: 550 ms\n"
     ]
    }
   ],
   "source": [
    "%%time\n",
    "\n",
    "aplicar_PCA(X_train, X_test, y_train, y_test, num_componentes=50)"
   ]
  },
  {
   "cell_type": "code",
   "execution_count": null,
   "metadata": {},
   "outputs": [],
   "source": []
  },
  {
   "cell_type": "markdown",
   "metadata": {},
   "source": [
    "## Conclua\n",
    "\n",
    "- O que aconteceu com a acurácia?\n",
    "- O que aconteceu com o tempo de processamento?"
   ]
  },
  {
   "cell_type": "markdown",
   "metadata": {},
   "source": [
    "Aparentemente, aplicar o PCA com 10 componentes teve um ótimo resultado, as acurácias de treino e teste subiram bastante comparadas as de menos componentes, e o tempo de processamento não mudou muita coisa.\n",
    "\n",
    "No entanto, ao aplicar com 50 componentes, apesar da acurácia ter aumentando um pouco para ambas as bases, o aumento foi muito pequeno e o tempo de processamentou aumento em quase 5x. \n",
    "\n",
    "Portanto, pode-se concluir que é mais vantajoso manter com apenas 10 componentes."
   ]
  }
 ],
 "metadata": {
  "kernelspec": {
   "display_name": "Python 3 (ipykernel)",
   "language": "python",
   "name": "python3"
  },
  "language_info": {
   "codemirror_mode": {
    "name": "ipython",
    "version": 3
   },
   "file_extension": ".py",
   "mimetype": "text/x-python",
   "name": "python",
   "nbconvert_exporter": "python",
   "pygments_lexer": "ipython3",
   "version": "3.10.9"
  },
  "toc": {
   "base_numbering": 1,
   "nav_menu": {},
   "number_sections": true,
   "sideBar": true,
   "skip_h1_title": true,
   "title_cell": "Índice",
   "title_sidebar": "Conteúdo",
   "toc_cell": false,
   "toc_position": {},
   "toc_section_display": true,
   "toc_window_display": false
  },
  "varInspector": {
   "cols": {
    "lenName": 16,
    "lenType": 16,
    "lenVar": 40
   },
   "kernels_config": {
    "python": {
     "delete_cmd_postfix": "",
     "delete_cmd_prefix": "del ",
     "library": "var_list.py",
     "varRefreshCmd": "print(var_dic_list())"
    },
    "r": {
     "delete_cmd_postfix": ") ",
     "delete_cmd_prefix": "rm(",
     "library": "var_list.r",
     "varRefreshCmd": "cat(var_dic_list()) "
    }
   },
   "types_to_exclude": [
    "module",
    "function",
    "builtin_function_or_method",
    "instance",
    "_Feature"
   ],
   "window_display": false
  }
 },
 "nbformat": 4,
 "nbformat_minor": 4
}
